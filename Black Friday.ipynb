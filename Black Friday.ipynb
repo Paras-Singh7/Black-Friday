{
 "cells": [
  {
   "cell_type": "markdown",
   "metadata": {},
   "source": [
    "# BLACK FRIDAY \n",
    "\n",
    "A retail company \"ABC Private Limited\" wants to understand the customer purchase behaviour (specifically, purchase amount) against various products of different categories. They have shared purchase summary ofvarious customers for selected high volume products from last month. The data set also contains customer demographics (age, gender, marital status, city_type, stay_in_current_city), product details (product_id and product category) and Total purchase_amount from last month. Now, they want to build a model to predict the purchase amount of customer against various products which will help them to create personalized offer for customers against different products."
   ]
  },
  {
   "cell_type": "markdown",
   "metadata": {},
   "source": [
    "### Importing data:"
   ]
  },
  {
   "cell_type": "code",
   "execution_count": 2,
   "metadata": {},
   "outputs": [],
   "source": [
    "train <- read.csv(\"bf_train.csv\", stringsAsFactors=F)"
   ]
  },
  {
   "cell_type": "code",
   "execution_count": 3,
   "metadata": {},
   "outputs": [],
   "source": [
    "test <- read.csv(\"bf_test.csv\", stringsAsFactors=F)"
   ]
  },
  {
   "cell_type": "markdown",
   "metadata": {},
   "source": [
    "#### Backup:"
   ]
  },
  {
   "cell_type": "code",
   "execution_count": 4,
   "metadata": {},
   "outputs": [],
   "source": [
    "train_bk <- train"
   ]
  },
  {
   "cell_type": "code",
   "execution_count": 5,
   "metadata": {},
   "outputs": [],
   "source": [
    "test_bk <- test"
   ]
  },
  {
   "cell_type": "markdown",
   "metadata": {},
   "source": [
    "### Exploring the data:"
   ]
  },
  {
   "cell_type": "code",
   "execution_count": 7,
   "metadata": {},
   "outputs": [
    {
     "data": {
      "text/html": [
       "<table>\n",
       "<thead><tr><th scope=col>User_ID</th><th scope=col>Product_ID</th><th scope=col>Gender</th><th scope=col>Age</th><th scope=col>Occupation</th><th scope=col>City_Category</th><th scope=col>Stay_In_Current_City_Years</th><th scope=col>Marital_Status</th><th scope=col>Product_Category_1</th><th scope=col>Product_Category_2</th><th scope=col>Product_Category_3</th><th scope=col>Purchase</th></tr></thead>\n",
       "<tbody>\n",
       "\t<tr><td>1000001  </td><td>P00069042</td><td>F        </td><td>0-17     </td><td>10       </td><td>A        </td><td>2        </td><td>0        </td><td> 3       </td><td>NA       </td><td>NA       </td><td> 8370    </td></tr>\n",
       "\t<tr><td>1000001  </td><td>P00248942</td><td>F        </td><td>0-17     </td><td>10       </td><td>A        </td><td>2        </td><td>0        </td><td> 1       </td><td> 6       </td><td>14       </td><td>15200    </td></tr>\n",
       "\t<tr><td>1000001  </td><td>P00087842</td><td>F        </td><td>0-17     </td><td>10       </td><td>A        </td><td>2        </td><td>0        </td><td>12       </td><td>NA       </td><td>NA       </td><td> 1422    </td></tr>\n",
       "\t<tr><td>1000001  </td><td>P00085442</td><td>F        </td><td>0-17     </td><td>10       </td><td>A        </td><td>2        </td><td>0        </td><td>12       </td><td>14       </td><td>NA       </td><td> 1057    </td></tr>\n",
       "\t<tr><td>1000002  </td><td>P00285442</td><td>M        </td><td>55+      </td><td>16       </td><td>C        </td><td>4+       </td><td>0        </td><td> 8       </td><td>NA       </td><td>NA       </td><td> 7969    </td></tr>\n",
       "\t<tr><td>1000003  </td><td>P00193542</td><td>M        </td><td>26-35    </td><td>15       </td><td>A        </td><td>3        </td><td>0        </td><td> 1       </td><td> 2       </td><td>NA       </td><td>15227    </td></tr>\n",
       "</tbody>\n",
       "</table>\n"
      ],
      "text/latex": [
       "\\begin{tabular}{r|llllllllllll}\n",
       " User\\_ID & Product\\_ID & Gender & Age & Occupation & City\\_Category & Stay\\_In\\_Current\\_City\\_Years & Marital\\_Status & Product\\_Category\\_1 & Product\\_Category\\_2 & Product\\_Category\\_3 & Purchase\\\\\n",
       "\\hline\n",
       "\t 1000001   & P00069042 & F         & 0-17      & 10        & A         & 2         & 0         &  3        & NA        & NA        &  8370    \\\\\n",
       "\t 1000001   & P00248942 & F         & 0-17      & 10        & A         & 2         & 0         &  1        &  6        & 14        & 15200    \\\\\n",
       "\t 1000001   & P00087842 & F         & 0-17      & 10        & A         & 2         & 0         & 12        & NA        & NA        &  1422    \\\\\n",
       "\t 1000001   & P00085442 & F         & 0-17      & 10        & A         & 2         & 0         & 12        & 14        & NA        &  1057    \\\\\n",
       "\t 1000002   & P00285442 & M         & 55+       & 16        & C         & 4+        & 0         &  8        & NA        & NA        &  7969    \\\\\n",
       "\t 1000003   & P00193542 & M         & 26-35     & 15        & A         & 3         & 0         &  1        &  2        & NA        & 15227    \\\\\n",
       "\\end{tabular}\n"
      ],
      "text/markdown": [
       "\n",
       "| User_ID | Product_ID | Gender | Age | Occupation | City_Category | Stay_In_Current_City_Years | Marital_Status | Product_Category_1 | Product_Category_2 | Product_Category_3 | Purchase |\n",
       "|---|---|---|---|---|---|---|---|---|---|---|---|\n",
       "| 1000001   | P00069042 | F         | 0-17      | 10        | A         | 2         | 0         |  3        | NA        | NA        |  8370     |\n",
       "| 1000001   | P00248942 | F         | 0-17      | 10        | A         | 2         | 0         |  1        |  6        | 14        | 15200     |\n",
       "| 1000001   | P00087842 | F         | 0-17      | 10        | A         | 2         | 0         | 12        | NA        | NA        |  1422     |\n",
       "| 1000001   | P00085442 | F         | 0-17      | 10        | A         | 2         | 0         | 12        | 14        | NA        |  1057     |\n",
       "| 1000002   | P00285442 | M         | 55+       | 16        | C         | 4+        | 0         |  8        | NA        | NA        |  7969     |\n",
       "| 1000003   | P00193542 | M         | 26-35     | 15        | A         | 3         | 0         |  1        |  2        | NA        | 15227     |\n",
       "\n"
      ],
      "text/plain": [
       "  User_ID Product_ID Gender Age   Occupation City_Category\n",
       "1 1000001 P00069042  F      0-17  10         A            \n",
       "2 1000001 P00248942  F      0-17  10         A            \n",
       "3 1000001 P00087842  F      0-17  10         A            \n",
       "4 1000001 P00085442  F      0-17  10         A            \n",
       "5 1000002 P00285442  M      55+   16         C            \n",
       "6 1000003 P00193542  M      26-35 15         A            \n",
       "  Stay_In_Current_City_Years Marital_Status Product_Category_1\n",
       "1 2                          0               3                \n",
       "2 2                          0               1                \n",
       "3 2                          0              12                \n",
       "4 2                          0              12                \n",
       "5 4+                         0               8                \n",
       "6 3                          0               1                \n",
       "  Product_Category_2 Product_Category_3 Purchase\n",
       "1 NA                 NA                  8370   \n",
       "2  6                 14                 15200   \n",
       "3 NA                 NA                  1422   \n",
       "4 14                 NA                  1057   \n",
       "5 NA                 NA                  7969   \n",
       "6  2                 NA                 15227   "
      ]
     },
     "metadata": {},
     "output_type": "display_data"
    },
    {
     "data": {
      "text/html": [
       "<table>\n",
       "<thead><tr><th scope=col>User_ID</th><th scope=col>Product_ID</th><th scope=col>Gender</th><th scope=col>Age</th><th scope=col>Occupation</th><th scope=col>City_Category</th><th scope=col>Stay_In_Current_City_Years</th><th scope=col>Marital_Status</th><th scope=col>Product_Category_1</th><th scope=col>Product_Category_2</th><th scope=col>Product_Category_3</th></tr></thead>\n",
       "<tbody>\n",
       "\t<tr><td>1000004  </td><td>P00128942</td><td>M        </td><td>46-50    </td><td> 7       </td><td>B        </td><td>2        </td><td>1        </td><td>1        </td><td>11       </td><td>NA       </td></tr>\n",
       "\t<tr><td>1000009  </td><td>P00113442</td><td>M        </td><td>26-35    </td><td>17       </td><td>C        </td><td>0        </td><td>0        </td><td>3        </td><td> 5       </td><td>NA       </td></tr>\n",
       "\t<tr><td>1000010  </td><td>P00288442</td><td>F        </td><td>36-45    </td><td> 1       </td><td>B        </td><td>4+       </td><td>1        </td><td>5        </td><td>14       </td><td>NA       </td></tr>\n",
       "\t<tr><td>1000010  </td><td>P00145342</td><td>F        </td><td>36-45    </td><td> 1       </td><td>B        </td><td>4+       </td><td>1        </td><td>4        </td><td> 9       </td><td>NA       </td></tr>\n",
       "\t<tr><td>1000011  </td><td>P00053842</td><td>F        </td><td>26-35    </td><td> 1       </td><td>C        </td><td>1        </td><td>0        </td><td>4        </td><td> 5       </td><td>12       </td></tr>\n",
       "\t<tr><td>1000013  </td><td>P00350442</td><td>M        </td><td>46-50    </td><td> 1       </td><td>C        </td><td>3        </td><td>1        </td><td>2        </td><td> 3       </td><td>15       </td></tr>\n",
       "</tbody>\n",
       "</table>\n"
      ],
      "text/latex": [
       "\\begin{tabular}{r|lllllllllll}\n",
       " User\\_ID & Product\\_ID & Gender & Age & Occupation & City\\_Category & Stay\\_In\\_Current\\_City\\_Years & Marital\\_Status & Product\\_Category\\_1 & Product\\_Category\\_2 & Product\\_Category\\_3\\\\\n",
       "\\hline\n",
       "\t 1000004   & P00128942 & M         & 46-50     &  7        & B         & 2         & 1         & 1         & 11        & NA       \\\\\n",
       "\t 1000009   & P00113442 & M         & 26-35     & 17        & C         & 0         & 0         & 3         &  5        & NA       \\\\\n",
       "\t 1000010   & P00288442 & F         & 36-45     &  1        & B         & 4+        & 1         & 5         & 14        & NA       \\\\\n",
       "\t 1000010   & P00145342 & F         & 36-45     &  1        & B         & 4+        & 1         & 4         &  9        & NA       \\\\\n",
       "\t 1000011   & P00053842 & F         & 26-35     &  1        & C         & 1         & 0         & 4         &  5        & 12       \\\\\n",
       "\t 1000013   & P00350442 & M         & 46-50     &  1        & C         & 3         & 1         & 2         &  3        & 15       \\\\\n",
       "\\end{tabular}\n"
      ],
      "text/markdown": [
       "\n",
       "| User_ID | Product_ID | Gender | Age | Occupation | City_Category | Stay_In_Current_City_Years | Marital_Status | Product_Category_1 | Product_Category_2 | Product_Category_3 |\n",
       "|---|---|---|---|---|---|---|---|---|---|---|\n",
       "| 1000004   | P00128942 | M         | 46-50     |  7        | B         | 2         | 1         | 1         | 11        | NA        |\n",
       "| 1000009   | P00113442 | M         | 26-35     | 17        | C         | 0         | 0         | 3         |  5        | NA        |\n",
       "| 1000010   | P00288442 | F         | 36-45     |  1        | B         | 4+        | 1         | 5         | 14        | NA        |\n",
       "| 1000010   | P00145342 | F         | 36-45     |  1        | B         | 4+        | 1         | 4         |  9        | NA        |\n",
       "| 1000011   | P00053842 | F         | 26-35     |  1        | C         | 1         | 0         | 4         |  5        | 12        |\n",
       "| 1000013   | P00350442 | M         | 46-50     |  1        | C         | 3         | 1         | 2         |  3        | 15        |\n",
       "\n"
      ],
      "text/plain": [
       "  User_ID Product_ID Gender Age   Occupation City_Category\n",
       "1 1000004 P00128942  M      46-50  7         B            \n",
       "2 1000009 P00113442  M      26-35 17         C            \n",
       "3 1000010 P00288442  F      36-45  1         B            \n",
       "4 1000010 P00145342  F      36-45  1         B            \n",
       "5 1000011 P00053842  F      26-35  1         C            \n",
       "6 1000013 P00350442  M      46-50  1         C            \n",
       "  Stay_In_Current_City_Years Marital_Status Product_Category_1\n",
       "1 2                          1              1                 \n",
       "2 0                          0              3                 \n",
       "3 4+                         1              5                 \n",
       "4 4+                         1              4                 \n",
       "5 1                          0              4                 \n",
       "6 3                          1              2                 \n",
       "  Product_Category_2 Product_Category_3\n",
       "1 11                 NA                \n",
       "2  5                 NA                \n",
       "3 14                 NA                \n",
       "4  9                 NA                \n",
       "5  5                 12                \n",
       "6  3                 15                "
      ]
     },
     "metadata": {},
     "output_type": "display_data"
    },
    {
     "data": {
      "text/plain": [
       "    User_ID         Product_ID           Gender              Age           \n",
       " Min.   :1000001   Length:550068      Length:550068      Length:550068     \n",
       " 1st Qu.:1001516   Class :character   Class :character   Class :character  \n",
       " Median :1003077   Mode  :character   Mode  :character   Mode  :character  \n",
       " Mean   :1003029                                                           \n",
       " 3rd Qu.:1004478                                                           \n",
       " Max.   :1006040                                                           \n",
       "                                                                           \n",
       "   Occupation     City_Category      Stay_In_Current_City_Years\n",
       " Min.   : 0.000   Length:550068      Length:550068             \n",
       " 1st Qu.: 2.000   Class :character   Class :character          \n",
       " Median : 7.000   Mode  :character   Mode  :character          \n",
       " Mean   : 8.077                                                \n",
       " 3rd Qu.:14.000                                                \n",
       " Max.   :20.000                                                \n",
       "                                                               \n",
       " Marital_Status   Product_Category_1 Product_Category_2 Product_Category_3\n",
       " Min.   :0.0000   Min.   : 1.000     Min.   : 2.00      Min.   : 3.0      \n",
       " 1st Qu.:0.0000   1st Qu.: 1.000     1st Qu.: 5.00      1st Qu.: 9.0      \n",
       " Median :0.0000   Median : 5.000     Median : 9.00      Median :14.0      \n",
       " Mean   :0.4097   Mean   : 5.404     Mean   : 9.84      Mean   :12.7      \n",
       " 3rd Qu.:1.0000   3rd Qu.: 8.000     3rd Qu.:15.00      3rd Qu.:16.0      \n",
       " Max.   :1.0000   Max.   :20.000     Max.   :18.00      Max.   :18.0      \n",
       "                                     NA's   :173638     NA's   :383247    \n",
       "    Purchase    \n",
       " Min.   :   12  \n",
       " 1st Qu.: 5823  \n",
       " Median : 8047  \n",
       " Mean   : 9264  \n",
       " 3rd Qu.:12054  \n",
       " Max.   :23961  \n",
       "                "
      ]
     },
     "metadata": {},
     "output_type": "display_data"
    },
    {
     "name": "stdout",
     "output_type": "stream",
     "text": [
      "'data.frame':\t550068 obs. of  12 variables:\n",
      " $ User_ID                   : int  1000001 1000001 1000001 1000001 1000002 1000003 1000004 1000004 1000004 1000005 ...\n",
      " $ Product_ID                : chr  \"P00069042\" \"P00248942\" \"P00087842\" \"P00085442\" ...\n",
      " $ Gender                    : chr  \"F\" \"F\" \"F\" \"F\" ...\n",
      " $ Age                       : chr  \"0-17\" \"0-17\" \"0-17\" \"0-17\" ...\n",
      " $ Occupation                : int  10 10 10 10 16 15 7 7 7 20 ...\n",
      " $ City_Category             : chr  \"A\" \"A\" \"A\" \"A\" ...\n",
      " $ Stay_In_Current_City_Years: chr  \"2\" \"2\" \"2\" \"2\" ...\n",
      " $ Marital_Status            : int  0 0 0 0 0 0 1 1 1 1 ...\n",
      " $ Product_Category_1        : int  3 1 12 12 8 1 1 1 1 8 ...\n",
      " $ Product_Category_2        : int  NA 6 NA 14 NA 2 8 15 16 NA ...\n",
      " $ Product_Category_3        : int  NA 14 NA NA NA NA 17 NA NA NA ...\n",
      " $ Purchase                  : int  8370 15200 1422 1057 7969 15227 19215 15854 15686 7871 ...\n"
     ]
    }
   ],
   "source": [
    "head(train)\n",
    "head(test)\n",
    "summary(train)\n",
    "str(train)"
   ]
  },
  {
   "cell_type": "markdown",
   "metadata": {},
   "source": [
    "The available information are User_ID, Product_ID,\tGender.\tAge,\tOccupation,\tCity_Category,\tStay_In_Current_City_Years,\tMarital_Status,\tProduct_Category_1,\tProduct_Category_2,\tProduct_Category_3,\tPurchase in the train dataset and same information is available in the test dataset except the Purchase. So now, we have to use the train dataset to predict the purchase of our test data set"
   ]
  },
  {
   "cell_type": "markdown",
   "metadata": {},
   "source": [
    "### Let's check if our dataset contain any NA values:"
   ]
  },
  {
   "cell_type": "code",
   "execution_count": 8,
   "metadata": {},
   "outputs": [
    {
     "data": {
      "image/png": "[encoded data removed]",
      "text/plain": [
       "Plot with title \"Missing Map\""
      ]
     },
     "metadata": {},
     "output_type": "display_data"
    },
    {
     "data": {
      "image/png": "[encoded data removed]",
      "text/plain": [
       "Plot with title \"Missing Map\""
      ]
     },
     "metadata": {},
     "output_type": "display_data"
    }
   ],
   "source": [
    "library(Amelia)\n",
    "missmap(train, main='Missing Map',col=c('yellow','black'),legend=FALSE)\n",
    "missmap(test, main='Missing Map',col=c('yellow','black'),legend=FALSE)"
   ]
  },
  {
   "cell_type": "markdown",
   "metadata": {},
   "source": [
    "From the graph we can say that 90% of product category 3 and 75% of product category 2 data are missing."
   ]
  },
  {
   "cell_type": "markdown",
   "metadata": {},
   "source": [
    "### Looking for the missing value:"
   ]
  },
  {
   "cell_type": "code",
   "execution_count": 7,
   "metadata": {},
   "outputs": [],
   "source": [
    "library(DMwR)\n",
    "train <- centralImputation(train)\n",
    "test <- centralImputation(test)"
   ]
  },
  {
   "cell_type": "code",
   "execution_count": 6,
   "metadata": {},
   "outputs": [
    {
     "name": "stdout",
     "output_type": "stream",
     "text": [
      "[1] \" = FALSE\"\n",
      "[1] \" = FALSE\"\n",
      "[1] \" = FALSE\"\n",
      "[1] \" = FALSE\"\n",
      "[1] \" = FALSE\"\n",
      "[1] \" = FALSE\"\n",
      "[1] \" = FALSE\"\n",
      "[1] \" = FALSE\"\n",
      "[1] \" = FALSE\"\n",
      "[1] \" = FALSE\"\n",
      "[1] \" = FALSE\"\n",
      "[1] \" = FALSE\"\n"
     ]
    }
   ],
   "source": [
    "for(i in 1:12){\n",
    "  ans = any(is.na(train[,i]))\n",
    "  col = colnames(train[,i])\n",
    "  print(paste(col,'=',ans))\n",
    "}"
   ]
  },
  {
   "cell_type": "markdown",
   "metadata": {},
   "source": [
    "Now, our data is complete and there are no NA's in it. Lets proceed further."
   ]
  },
  {
   "cell_type": "markdown",
   "metadata": {},
   "source": [
    "## Unvirate Analysis\n",
    "\n",
    "To get an idea of the distribution of numerical variables, histograms are an excellent starting point.\n",
    "Let’s begin by generating one for Purchase , our target variable.\n"
   ]
  },
  {
   "cell_type": "markdown",
   "metadata": {},
   "source": [
    "### Distribution of target variable:Purchase"
   ]
  },
  {
   "cell_type": "code",
   "execution_count": 13,
   "metadata": {},
   "outputs": [
    {
     "data": {
      "image/png": "[encoded data removed]",
      "text/plain": [
       "plot without title"
      ]
     },
     "metadata": {},
     "output_type": "display_data"
    }
   ],
   "source": [
    "library(ggplot2)\n",
    "ggplot(train, aes(Purchase)) + geom_histogram(bins=25,fill='blue',alpha=0.5) + theme_bw()"
   ]
  },
  {
   "cell_type": "markdown",
   "metadata": {},
   "source": [
    "It seems like our target variable has an almost Gaussian distribution."
   ]
  },
  {
   "cell_type": "markdown",
   "metadata": {},
   "source": [
    "### Numerical Predictors\n",
    "Now that we’ve analysed our target variable, let’s consider our predictors. Let’s start by seeing which of our features are numeric."
   ]
  },
  {
   "cell_type": "markdown",
   "metadata": {},
   "source": [
    "#### Distribution of the variable: Occupation"
   ]
  },
  {
   "cell_type": "code",
   "execution_count": 14,
   "metadata": {},
   "outputs": [
    {
     "data": {
      "image/png": "[encoded data removed]",
      "text/plain": [
       "plot without title"
      ]
     },
     "metadata": {},
     "output_type": "display_data"
    }
   ],
   "source": [
    "ggplot(train,aes(Occupation)) + geom_histogram(bins=30,color=\"black\",fill=\"#00FF7F\") + theme_bw()"
   ]
  },
  {
   "cell_type": "markdown",
   "metadata": {},
   "source": [
    "As seen in the beginning, Occupation has at least 20 different values. Since we do not known to each occupation each number corresponds, is difficult to make any analysis. Furthermore, it seems we have no alternative but to use since there is no way to reduce this number as we did on Project Bigmart with Item_Type."
   ]
  },
  {
   "cell_type": "markdown",
   "metadata": {},
   "source": [
    "#### Distribution of variable: Marital Status"
   ]
  },
  {
   "cell_type": "code",
   "execution_count": 15,
   "metadata": {},
   "outputs": [
    {
     "data": {
      "image/png": "[encoded data removed]",
      "text/plain": [
       "plot without title"
      ]
     },
     "metadata": {},
     "output_type": "display_data"
    }
   ],
   "source": [
    "ggplot(train,aes(Marital_Status)) + geom_bar(color=\"black\",fill=\"#00FF7F\") + theme_bw()"
   ]
  },
  {
   "cell_type": "markdown",
   "metadata": {},
   "source": [
    "As expected there are more single people buying products on Black Friday than married people, but do they spend more?"
   ]
  },
  {
   "cell_type": "markdown",
   "metadata": {},
   "source": [
    "#### Distribution of variable: Product Category 1"
   ]
  },
  {
   "cell_type": "code",
   "execution_count": 16,
   "metadata": {},
   "outputs": [
    {
     "data": {
      "image/png": "[encoded data removed]",
      "text/plain": [
       "plot without title"
      ]
     },
     "metadata": {},
     "output_type": "display_data"
    }
   ],
   "source": [
    "ggplot(train,aes(Product_Category_1)) + geom_bar(color=\"black\",fill=\"#00FF7F\") + theme_bw()"
   ]
  },
  {
   "cell_type": "markdown",
   "metadata": {},
   "source": [
    "From the distribution for products from category one, it is clear that three products stand out, number 1, 5 and 8. Unfortunately, we do not know which product each number represents."
   ]
  },
  {
   "cell_type": "markdown",
   "metadata": {},
   "source": [
    "#### Distribution of variable: Product Category 2"
   ]
  },
  {
   "cell_type": "code",
   "execution_count": 17,
   "metadata": {},
   "outputs": [
    {
     "data": {
      "image/png": "[encoded data removed]",
      "text/plain": [
       "plot without title"
      ]
     },
     "metadata": {},
     "output_type": "display_data"
    }
   ],
   "source": [
    "ggplot(train,aes(Product_Category_2)) + geom_bar(color=\"black\",fill=\"#00FF7F\") + theme_bw()"
   ]
  },
  {
   "cell_type": "markdown",
   "metadata": {},
   "source": [
    "#### Distribution of variable: Product Category 3"
   ]
  },
  {
   "cell_type": "code",
   "execution_count": 18,
   "metadata": {},
   "outputs": [
    {
     "data": {
      "image/png": "[encoded data removed]",
      "text/plain": [
       "plot without title"
      ]
     },
     "metadata": {},
     "output_type": "display_data"
    }
   ],
   "source": [
    "ggplot(train,aes(Product_Category_3)) + geom_histogram(bins=30,color=\"black\",fill=\"#00FF7F\") + theme_bw()"
   ]
  },
  {
   "cell_type": "markdown",
   "metadata": {},
   "source": [
    "### Correlation between Numerical Predictors and Target variable"
   ]
  },
  {
   "cell_type": "code",
   "execution_count": 20,
   "metadata": {},
   "outputs": [
    {
     "name": "stdout",
     "output_type": "stream",
     "text": [
      "                        User_ID    Occupation Marital_Status Product_Category_1\n",
      "User_ID             1.000000000 -0.0239707219   0.0204426432        0.003824614\n",
      "Occupation         -0.023970722  1.0000000000   0.0242799611       -0.007617560\n",
      "Marital_Status      0.020442643  0.0242799611   1.0000000000        0.019887854\n",
      "Product_Category_1  0.003824614 -0.0076175597   0.0198878542        1.000000000\n",
      "Product_Category_2  0.001644216  0.0005565642   0.0115259150        0.331691477\n",
      "Product_Category_3  0.001008212  0.0043253120   0.0127054254        0.195929867\n",
      "Purchase            0.004715662  0.0208326169  -0.0004633764       -0.343703346\n",
      "                   Product_Category_2 Product_Category_3      Purchase\n",
      "User_ID                  0.0016442162        0.001008212  0.0047156616\n",
      "Occupation               0.0005565642        0.004325312  0.0208326169\n",
      "Marital_Status           0.0115259150        0.012705425 -0.0004633764\n",
      "Product_Category_1       0.3316914765        0.195929867 -0.3437033459\n",
      "Product_Category_2       1.0000000000        0.416679548 -0.1566762722\n",
      "Product_Category_3       0.4166795478        1.000000000 -0.0936564937\n",
      "Purchase                -0.1566762722       -0.093656494  1.0000000000\n"
     ]
    },
    {
     "data": {
      "image/png": "[encoded data removed]",
      "text/plain": [
       "Plot with title \"\""
      ]
     },
     "metadata": {},
     "output_type": "display_data"
    }
   ],
   "source": [
    "#Numeric cokumn only\n",
    "num.cols <- sapply(train,is.numeric)\n",
    "#filter\n",
    "cor.data <- cor(train[,num.cols])\n",
    "library(corrplot)\n",
    "#corrplot\n",
    "print(corrplot(cor.data,method='color')) "
   ]
  },
  {
   "cell_type": "markdown",
   "metadata": {},
   "source": [
    "There seems to be no multicollinearity with our predictors which is a good thing, although there is some correlation among the product categories."
   ]
  },
  {
   "cell_type": "markdown",
   "metadata": {},
   "source": [
    "### Categorical Predictor\n",
    "For categorical variables, bar charts and frequency counts are the natural counterparts to histograms. Now is time to look at the variables that contain some insight on the assumptions previously made."
   ]
  },
  {
   "cell_type": "markdown",
   "metadata": {},
   "source": [
    "#### Distribution of variable: Gender"
   ]
  },
  {
   "cell_type": "code",
   "execution_count": 21,
   "metadata": {},
   "outputs": [
    {
     "data": {
      "image/png": "[encoded data removed]",
      "text/plain": [
       "plot without title"
      ]
     },
     "metadata": {},
     "output_type": "display_data"
    }
   ],
   "source": [
    "ggplot(train,aes(Gender)) + geom_bar(color=\"black\",fill=\"#00FF7F\") + theme_bw()"
   ]
  },
  {
   "cell_type": "markdown",
   "metadata": {},
   "source": [
    "Most of the buyers are males, but who spends more on each purchase: man or woman?"
   ]
  },
  {
   "cell_type": "markdown",
   "metadata": {},
   "source": [
    "#### Distribution of variable: Age"
   ]
  },
  {
   "cell_type": "code",
   "execution_count": 22,
   "metadata": {},
   "outputs": [
    {
     "data": {
      "image/png": "[encoded data removed]",
      "text/plain": [
       "plot without title"
      ]
     },
     "metadata": {},
     "output_type": "display_data"
    }
   ],
   "source": [
    "ggplot(train,aes(Age)) + geom_bar(color=\"black\",fill=\"#00FF7F\") + theme_bw()"
   ]
  },
  {
   "cell_type": "markdown",
   "metadata": {},
   "source": [
    "As expected, most purchases are made by people between 18 to 45 years old."
   ]
  },
  {
   "cell_type": "markdown",
   "metadata": {},
   "source": [
    "#### Distribution of variable: City Category"
   ]
  },
  {
   "cell_type": "code",
   "execution_count": 23,
   "metadata": {},
   "outputs": [
    {
     "data": {
      "image/png": "[encoded data removed]",
      "text/plain": [
       "plot without title"
      ]
     },
     "metadata": {},
     "output_type": "display_data"
    }
   ],
   "source": [
    "ggplot(train,aes(City_Category)) + geom_bar(color=\"black\",fill=\"#00FF7F\") + theme_bw()"
   ]
  },
  {
   "cell_type": "markdown",
   "metadata": {},
   "source": [
    "Supposing ‘A’ represents the biggest city whereas ‘C’ the smallest, it curious to see that the medium size cities ‘B’ had higher sales than the others. But do they also spent more?"
   ]
  },
  {
   "cell_type": "markdown",
   "metadata": {},
   "source": [
    "#### Distribution of variable: Status in current city years"
   ]
  },
  {
   "cell_type": "code",
   "execution_count": 24,
   "metadata": {},
   "outputs": [
    {
     "data": {
      "image/png": "[encoded data removed]",
      "text/plain": [
       "plot without title"
      ]
     },
     "metadata": {},
     "output_type": "display_data"
    }
   ],
   "source": [
    "ggplot(train,aes(Stay_In_Current_City_Years)) + geom_bar(color=\"black\",fill=\"#00FF7F\") + theme_bw()"
   ]
  },
  {
   "cell_type": "markdown",
   "metadata": {},
   "source": [
    "The tendency looks like the longest someone is living in that city the less prone they are to buy new things. Hence, if someone is new in town and needs a great number of new things for their house that they’ll take advantage of the low prices in Black Friday to purchase all the things needed."
   ]
  },
  {
   "cell_type": "markdown",
   "metadata": {},
   "source": [
    "## Biverate Analysis\n",
    "Firstly we individually analysed some of the existent features, now it is time to understand the relationship between our target variable and predictors as well as the relationship among predictors."
   ]
  },
  {
   "cell_type": "markdown",
   "metadata": {},
   "source": [
    "### Numerical Variables"
   ]
  },
  {
   "cell_type": "markdown",
   "metadata": {},
   "source": [
    "#### Occupation and Purchase Analysis"
   ]
  },
  {
   "cell_type": "code",
   "execution_count": 26,
   "metadata": {},
   "outputs": [
    {
     "data": {
      "image/png": "[encoded data removed]",
      "text/plain": [
       "plot without title"
      ]
     },
     "metadata": {},
     "output_type": "display_data"
    }
   ],
   "source": [
    "ggplot(train,aes(Occupation,Purchase)) + geom_bar(stat = \"identity\",color=\"blue\") + theme_bw()"
   ]
  },
  {
   "cell_type": "markdown",
   "metadata": {},
   "source": [
    "#### Marital Status and Purchase analysis"
   ]
  },
  {
   "cell_type": "code",
   "execution_count": 27,
   "metadata": {},
   "outputs": [
    {
     "data": {
      "image/png": "[encoded data removed]",
      "text/plain": [
       "plot without title"
      ]
     },
     "metadata": {},
     "output_type": "display_data"
    }
   ],
   "source": [
    "ggplot(train,aes(Marital_Status,Purchase)) + geom_bar(stat = \"identity\",color=\"blue\") + theme_bw()"
   ]
  },
  {
   "cell_type": "markdown",
   "metadata": {},
   "source": [
    "#### Product category 1 and Purchase analysis"
   ]
  },
  {
   "cell_type": "code",
   "execution_count": 28,
   "metadata": {},
   "outputs": [
    {
     "data": {
      "image/png": "[encoded data removed]",
      "text/plain": [
       "plot without title"
      ]
     },
     "metadata": {},
     "output_type": "display_data"
    }
   ],
   "source": [
    "ggplot(train,aes(Product_Category_1,Purchase)) + geom_bar(stat = \"identity\",color=\"blue\") + theme_bw()"
   ]
  },
  {
   "cell_type": "markdown",
   "metadata": {},
   "source": [
    "### Categorical Variables"
   ]
  },
  {
   "cell_type": "markdown",
   "metadata": {},
   "source": [
    "#### Gender and Puchase Analysis"
   ]
  },
  {
   "cell_type": "code",
   "execution_count": 29,
   "metadata": {},
   "outputs": [
    {
     "data": {
      "image/png": "[encoded data removed]",
      "text/plain": [
       "plot without title"
      ]
     },
     "metadata": {},
     "output_type": "display_data"
    }
   ],
   "source": [
    "ggplot(train,aes(Gender,Purchase)) + geom_bar(stat = \"identity\",color=\"blue\") + theme_bw()"
   ]
  },
  {
   "cell_type": "markdown",
   "metadata": {},
   "source": [
    "#### Age and Purchase Analysis"
   ]
  },
  {
   "cell_type": "code",
   "execution_count": 29,
   "metadata": {},
   "outputs": [
    {
     "data": {
      "image/png": "[encoded data removed]",
      "text/plain": [
       "plot without title"
      ]
     },
     "metadata": {},
     "output_type": "display_data"
    }
   ],
   "source": [
    "ggplot(train,aes(Age,Purchase)) + geom_bar(stat = \"identity\",color=\"blue\") + theme_bw()"
   ]
  },
  {
   "cell_type": "markdown",
   "metadata": {},
   "source": [
    "#### City Category and Purchase Analysis"
   ]
  },
  {
   "cell_type": "code",
   "execution_count": 30,
   "metadata": {},
   "outputs": [
    {
     "data": {
      "image/png": "[encoded data removed]",
      "text/plain": [
       "plot without title"
      ]
     },
     "metadata": {},
     "output_type": "display_data"
    }
   ],
   "source": [
    "ggplot(train,aes(City_Category,Purchase)) + geom_bar(stat =\"identity\",color=\"blue\") + theme_bw()"
   ]
  },
  {
   "cell_type": "markdown",
   "metadata": {},
   "source": [
    "#### Stay In Current City Years and Purchase analysis"
   ]
  },
  {
   "cell_type": "code",
   "execution_count": 31,
   "metadata": {},
   "outputs": [
    {
     "data": {
      "image/png": "[encoded data removed]",
      "text/plain": [
       "plot without title"
      ]
     },
     "metadata": {},
     "output_type": "display_data"
    }
   ],
   "source": [
    "ggplot(train,aes(Stay_In_Current_City_Years,Purchase)) + geom_bar(stat=\"identity\",color=\"blue\") + theme_bw()"
   ]
  },
  {
   "cell_type": "markdown",
   "metadata": {},
   "source": [
    "## MODELLING"
   ]
  },
  {
   "cell_type": "code",
   "execution_count": 11,
   "metadata": {},
   "outputs": [],
   "source": [
    "# Cleaning data\n",
    "library(RCurl)\n",
    "library(dummies)\n",
    "library(plyr)"
   ]
  },
  {
   "cell_type": "code",
   "execution_count": 12,
   "metadata": {},
   "outputs": [
    {
     "data": {
      "text/html": [
       "<table>\n",
       "<thead><tr><th scope=col>User_ID</th><th scope=col>Product_ID</th><th scope=col>Gender</th><th scope=col>Age</th><th scope=col>Occupation</th><th scope=col>City_Category</th><th scope=col>Stay_In_Current_City_Years</th><th scope=col>Marital_Status</th><th scope=col>Product_Category_1</th><th scope=col>Product_Category_2</th><th scope=col>Product_Category_3</th><th scope=col>Purchase</th></tr></thead>\n",
       "<tbody>\n",
       "\t<tr><td>1000001  </td><td>P00069042</td><td>F        </td><td>0-17     </td><td>10       </td><td>A        </td><td>2        </td><td>0        </td><td> 3       </td><td> 9       </td><td>14       </td><td> 8370    </td></tr>\n",
       "\t<tr><td>1000001  </td><td>P00248942</td><td>F        </td><td>0-17     </td><td>10       </td><td>A        </td><td>2        </td><td>0        </td><td> 1       </td><td> 6       </td><td>14       </td><td>15200    </td></tr>\n",
       "\t<tr><td>1000001  </td><td>P00087842</td><td>F        </td><td>0-17     </td><td>10       </td><td>A        </td><td>2        </td><td>0        </td><td>12       </td><td> 9       </td><td>14       </td><td> 1422    </td></tr>\n",
       "\t<tr><td>1000001  </td><td>P00085442</td><td>F        </td><td>0-17     </td><td>10       </td><td>A        </td><td>2        </td><td>0        </td><td>12       </td><td>14       </td><td>14       </td><td> 1057    </td></tr>\n",
       "\t<tr><td>1000002  </td><td>P00285442</td><td>M        </td><td>55+      </td><td>16       </td><td>C        </td><td>4+       </td><td>0        </td><td> 8       </td><td> 9       </td><td>14       </td><td> 7969    </td></tr>\n",
       "\t<tr><td>1000003  </td><td>P00193542</td><td>M        </td><td>26-35    </td><td>15       </td><td>A        </td><td>3        </td><td>0        </td><td> 1       </td><td> 2       </td><td>14       </td><td>15227    </td></tr>\n",
       "</tbody>\n",
       "</table>\n"
      ],
      "text/latex": [
       "\\begin{tabular}{r|llllllllllll}\n",
       " User\\_ID & Product\\_ID & Gender & Age & Occupation & City\\_Category & Stay\\_In\\_Current\\_City\\_Years & Marital\\_Status & Product\\_Category\\_1 & Product\\_Category\\_2 & Product\\_Category\\_3 & Purchase\\\\\n",
       "\\hline\n",
       "\t 1000001   & P00069042 & F         & 0-17      & 10        & A         & 2         & 0         &  3        &  9        & 14        &  8370    \\\\\n",
       "\t 1000001   & P00248942 & F         & 0-17      & 10        & A         & 2         & 0         &  1        &  6        & 14        & 15200    \\\\\n",
       "\t 1000001   & P00087842 & F         & 0-17      & 10        & A         & 2         & 0         & 12        &  9        & 14        &  1422    \\\\\n",
       "\t 1000001   & P00085442 & F         & 0-17      & 10        & A         & 2         & 0         & 12        & 14        & 14        &  1057    \\\\\n",
       "\t 1000002   & P00285442 & M         & 55+       & 16        & C         & 4+        & 0         &  8        &  9        & 14        &  7969    \\\\\n",
       "\t 1000003   & P00193542 & M         & 26-35     & 15        & A         & 3         & 0         &  1        &  2        & 14        & 15227    \\\\\n",
       "\\end{tabular}\n"
      ],
      "text/markdown": [
       "\n",
       "| User_ID | Product_ID | Gender | Age | Occupation | City_Category | Stay_In_Current_City_Years | Marital_Status | Product_Category_1 | Product_Category_2 | Product_Category_3 | Purchase |\n",
       "|---|---|---|---|---|---|---|---|---|---|---|---|\n",
       "| 1000001   | P00069042 | F         | 0-17      | 10        | A         | 2         | 0         |  3        |  9        | 14        |  8370     |\n",
       "| 1000001   | P00248942 | F         | 0-17      | 10        | A         | 2         | 0         |  1        |  6        | 14        | 15200     |\n",
       "| 1000001   | P00087842 | F         | 0-17      | 10        | A         | 2         | 0         | 12        |  9        | 14        |  1422     |\n",
       "| 1000001   | P00085442 | F         | 0-17      | 10        | A         | 2         | 0         | 12        | 14        | 14        |  1057     |\n",
       "| 1000002   | P00285442 | M         | 55+       | 16        | C         | 4+        | 0         |  8        |  9        | 14        |  7969     |\n",
       "| 1000003   | P00193542 | M         | 26-35     | 15        | A         | 3         | 0         |  1        |  2        | 14        | 15227     |\n",
       "\n"
      ],
      "text/plain": [
       "  User_ID Product_ID Gender Age   Occupation City_Category\n",
       "1 1000001 P00069042  F      0-17  10         A            \n",
       "2 1000001 P00248942  F      0-17  10         A            \n",
       "3 1000001 P00087842  F      0-17  10         A            \n",
       "4 1000001 P00085442  F      0-17  10         A            \n",
       "5 1000002 P00285442  M      55+   16         C            \n",
       "6 1000003 P00193542  M      26-35 15         A            \n",
       "  Stay_In_Current_City_Years Marital_Status Product_Category_1\n",
       "1 2                          0               3                \n",
       "2 2                          0               1                \n",
       "3 2                          0              12                \n",
       "4 2                          0              12                \n",
       "5 4+                         0               8                \n",
       "6 3                          0               1                \n",
       "  Product_Category_2 Product_Category_3 Purchase\n",
       "1  9                 14                  8370   \n",
       "2  6                 14                 15200   \n",
       "3  9                 14                  1422   \n",
       "4 14                 14                  1057   \n",
       "5  9                 14                  7969   \n",
       "6  2                 14                 15227   "
      ]
     },
     "metadata": {},
     "output_type": "display_data"
    },
    {
     "data": {
      "text/html": [
       "<table>\n",
       "<thead><tr><th scope=col>User_ID</th><th scope=col>Product_ID</th><th scope=col>Gender</th><th scope=col>Age</th><th scope=col>Occupation</th><th scope=col>City_Category</th><th scope=col>Stay_In_Current_City_Years</th><th scope=col>Marital_Status</th><th scope=col>Product_Category_1</th><th scope=col>Product_Category_2</th><th scope=col>Product_Category_3</th></tr></thead>\n",
       "<tbody>\n",
       "\t<tr><td>1000004  </td><td>P00128942</td><td>M        </td><td>46-50    </td><td> 7       </td><td>B        </td><td>2        </td><td>1        </td><td>1        </td><td>11       </td><td>14       </td></tr>\n",
       "\t<tr><td>1000009  </td><td>P00113442</td><td>M        </td><td>26-35    </td><td>17       </td><td>C        </td><td>0        </td><td>0        </td><td>3        </td><td> 5       </td><td>14       </td></tr>\n",
       "\t<tr><td>1000010  </td><td>P00288442</td><td>F        </td><td>36-45    </td><td> 1       </td><td>B        </td><td>4+       </td><td>1        </td><td>5        </td><td>14       </td><td>14       </td></tr>\n",
       "\t<tr><td>1000010  </td><td>P00145342</td><td>F        </td><td>36-45    </td><td> 1       </td><td>B        </td><td>4+       </td><td>1        </td><td>4        </td><td> 9       </td><td>14       </td></tr>\n",
       "\t<tr><td>1000011  </td><td>P00053842</td><td>F        </td><td>26-35    </td><td> 1       </td><td>C        </td><td>1        </td><td>0        </td><td>4        </td><td> 5       </td><td>12       </td></tr>\n",
       "\t<tr><td>1000013  </td><td>P00350442</td><td>M        </td><td>46-50    </td><td> 1       </td><td>C        </td><td>3        </td><td>1        </td><td>2        </td><td> 3       </td><td>15       </td></tr>\n",
       "</tbody>\n",
       "</table>\n"
      ],
      "text/latex": [
       "\\begin{tabular}{r|lllllllllll}\n",
       " User\\_ID & Product\\_ID & Gender & Age & Occupation & City\\_Category & Stay\\_In\\_Current\\_City\\_Years & Marital\\_Status & Product\\_Category\\_1 & Product\\_Category\\_2 & Product\\_Category\\_3\\\\\n",
       "\\hline\n",
       "\t 1000004   & P00128942 & M         & 46-50     &  7        & B         & 2         & 1         & 1         & 11        & 14       \\\\\n",
       "\t 1000009   & P00113442 & M         & 26-35     & 17        & C         & 0         & 0         & 3         &  5        & 14       \\\\\n",
       "\t 1000010   & P00288442 & F         & 36-45     &  1        & B         & 4+        & 1         & 5         & 14        & 14       \\\\\n",
       "\t 1000010   & P00145342 & F         & 36-45     &  1        & B         & 4+        & 1         & 4         &  9        & 14       \\\\\n",
       "\t 1000011   & P00053842 & F         & 26-35     &  1        & C         & 1         & 0         & 4         &  5        & 12       \\\\\n",
       "\t 1000013   & P00350442 & M         & 46-50     &  1        & C         & 3         & 1         & 2         &  3        & 15       \\\\\n",
       "\\end{tabular}\n"
      ],
      "text/markdown": [
       "\n",
       "| User_ID | Product_ID | Gender | Age | Occupation | City_Category | Stay_In_Current_City_Years | Marital_Status | Product_Category_1 | Product_Category_2 | Product_Category_3 |\n",
       "|---|---|---|---|---|---|---|---|---|---|---|\n",
       "| 1000004   | P00128942 | M         | 46-50     |  7        | B         | 2         | 1         | 1         | 11        | 14        |\n",
       "| 1000009   | P00113442 | M         | 26-35     | 17        | C         | 0         | 0         | 3         |  5        | 14        |\n",
       "| 1000010   | P00288442 | F         | 36-45     |  1        | B         | 4+        | 1         | 5         | 14        | 14        |\n",
       "| 1000010   | P00145342 | F         | 36-45     |  1        | B         | 4+        | 1         | 4         |  9        | 14        |\n",
       "| 1000011   | P00053842 | F         | 26-35     |  1        | C         | 1         | 0         | 4         |  5        | 12        |\n",
       "| 1000013   | P00350442 | M         | 46-50     |  1        | C         | 3         | 1         | 2         |  3        | 15        |\n",
       "\n"
      ],
      "text/plain": [
       "  User_ID Product_ID Gender Age   Occupation City_Category\n",
       "1 1000004 P00128942  M      46-50  7         B            \n",
       "2 1000009 P00113442  M      26-35 17         C            \n",
       "3 1000010 P00288442  F      36-45  1         B            \n",
       "4 1000010 P00145342  F      36-45  1         B            \n",
       "5 1000011 P00053842  F      26-35  1         C            \n",
       "6 1000013 P00350442  M      46-50  1         C            \n",
       "  Stay_In_Current_City_Years Marital_Status Product_Category_1\n",
       "1 2                          1              1                 \n",
       "2 0                          0              3                 \n",
       "3 4+                         1              5                 \n",
       "4 4+                         1              4                 \n",
       "5 1                          0              4                 \n",
       "6 3                          1              2                 \n",
       "  Product_Category_2 Product_Category_3\n",
       "1 11                 14                \n",
       "2  5                 14                \n",
       "3 14                 14                \n",
       "4  9                 14                \n",
       "5  5                 12                \n",
       "6  3                 15                "
      ]
     },
     "metadata": {},
     "output_type": "display_data"
    }
   ],
   "source": [
    "head(train)\n",
    "head(test)"
   ]
  },
  {
   "cell_type": "code",
   "execution_count": 13,
   "metadata": {},
   "outputs": [],
   "source": [
    "# Converting stay in current city years into numeric\n",
    "train$Stay_In_Current_City_Years[train$Stay_In_Current_City_Years == \"4+\"] <- \"4\" \n",
    "test$Stay_In_Current_City_Years[test$Stay_In_Current_City_Years == \"4+\"] <- \"4\"\n",
    "\n",
    "train$Stay_In_Current_City_Years <- as.numeric(train$Stay_In_Current_City_Years)\n",
    "test$Stay_In_Current_City_Years <- as.numeric(test$Stay_In_Current_City_Years)"
   ]
  },
  {
   "cell_type": "code",
   "execution_count": 15,
   "metadata": {},
   "outputs": [],
   "source": [
    "# onehot-encoding city variable\n",
    "train <- dummy.data.frame(train, names=c(\"City_Category\"), sep=\"_\")\n",
    "test <- dummy.data.frame(test, names=c(\"City_Category\"),sep=\"_\")"
   ]
  },
  {
   "cell_type": "code",
   "execution_count": 16,
   "metadata": {},
   "outputs": [],
   "source": [
    "# converting age variable to numeric\n",
    "train$Age[train$Age == \"0-17\"] <- \"15\"\n",
    "train$Age[train$Age == \"18-25\"] <- \"21\"\n",
    "train$Age[train$Age == \"26-35\"] <- \"30\"\n",
    "train$Age[train$Age == \"36-45\"] <- \"40\"\n",
    "train$Age[train$Age == \"46-50\"] <- \"48\"\n",
    "train$Age[train$Age == \"51-55\"] <- \"53\"\n",
    "train$Age[train$Age == \"55+\"] <- \"60\"\n",
    "\n",
    "test$Age[test$Age == \"0-17\"] <- \"15\"\n",
    "test$Age[test$Age == \"18-25\"] <- \"21\"\n",
    "test$Age[test$Age == \"26-35\"] <- \"30\"\n",
    "test$Age[test$Age == \"36-45\"] <- \"40\"\n",
    "test$Age[test$Age == \"46-50\"] <- \"48\"\n",
    "test$Age[test$Age == \"51-55\"] <- \"53\"\n",
    "test$Age[test$Age == \"55+\"] <- \"60\"\n",
    "\n",
    "train$Age <- as.integer(train$Age)\n",
    "test$Age <- as.integer(test$Age)"
   ]
  },
  {
   "cell_type": "code",
   "execution_count": 17,
   "metadata": {},
   "outputs": [],
   "source": [
    "# converting gender to binary\n",
    "train$Gender <- ifelse(train$Gender == \"F\", 1, 0)\n",
    "test$Gender <- ifelse(test$Gender == \"F\", 1, 0)"
   ]
  },
  {
   "cell_type": "code",
   "execution_count": 18,
   "metadata": {},
   "outputs": [],
   "source": [
    "# feature representing the count of each user\n",
    "user_count <- ddply(train, .(User_ID), nrow)\n",
    "names(user_count)[2] <- \"User_Count\"\n",
    "train <- merge(train, user_count, by=\"User_ID\")\n",
    "test <- merge(test, user_count, all.x=T, by=\"User_ID\")"
   ]
  },
  {
   "cell_type": "code",
   "execution_count": 19,
   "metadata": {},
   "outputs": [
    {
     "data": {
      "text/html": [
       "TRUE"
      ],
      "text/latex": [
       "TRUE"
      ],
      "text/markdown": [
       "TRUE"
      ],
      "text/plain": [
       "[1] TRUE"
      ]
     },
     "metadata": {},
     "output_type": "display_data"
    }
   ],
   "source": [
    "# feature representing the count of each product\n",
    "product_count <- ddply(train, .(Product_ID), nrow)\n",
    "names(product_count)[2] <- \"Product_Count\"\n",
    "train <- merge(train, product_count, by=\"Product_ID\")\n",
    "test <- merge(test, product_count, all.x=T, by=\"Product_ID\")\n",
    "any(is.na(test$Product_Count))\n",
    "test$Product_Count[is.na(test$Product_Count)] <- 0"
   ]
  },
  {
   "cell_type": "code",
   "execution_count": 20,
   "metadata": {},
   "outputs": [],
   "source": [
    "#removing unnecessary column form train and test\n",
    "train <- train[3:16]\n",
    "test <- test[3:15]"
   ]
  },
  {
   "cell_type": "code",
   "execution_count": 21,
   "metadata": {},
   "outputs": [
    {
     "data": {
      "text/html": [
       "<table>\n",
       "<thead><tr><th scope=col>Gender</th><th scope=col>Age</th><th scope=col>Occupation</th><th scope=col>City_Category_A</th><th scope=col>City_Category_B</th><th scope=col>City_Category_C</th><th scope=col>Stay_In_Current_City_Years</th><th scope=col>Marital_Status</th><th scope=col>Product_Category_1</th><th scope=col>Product_Category_2</th><th scope=col>Product_Category_3</th><th scope=col>Purchase</th><th scope=col>User_Count</th><th scope=col>Product_Count</th></tr></thead>\n",
       "<tbody>\n",
       "\t<tr><td>0    </td><td>30   </td><td> 7   </td><td>0    </td><td>1    </td><td>0    </td><td>1    </td><td>1    </td><td>3    </td><td>4    </td><td>5    </td><td>13642</td><td>197  </td><td>1152 </td></tr>\n",
       "\t<tr><td>0    </td><td>40   </td><td>20   </td><td>0    </td><td>1    </td><td>0    </td><td>4    </td><td>0    </td><td>3    </td><td>4    </td><td>5    </td><td> 8335</td><td>171  </td><td>1152 </td></tr>\n",
       "\t<tr><td>0    </td><td>21   </td><td>19   </td><td>1    </td><td>0    </td><td>0    </td><td>1    </td><td>0    </td><td>3    </td><td>4    </td><td>5    </td><td>13374</td><td> 39  </td><td>1152 </td></tr>\n",
       "\t<tr><td>1    </td><td>21   </td><td> 1   </td><td>0    </td><td>0    </td><td>1    </td><td>1    </td><td>1    </td><td>3    </td><td>4    </td><td>5    </td><td>10883</td><td> 51  </td><td>1152 </td></tr>\n",
       "\t<tr><td>0    </td><td>30   </td><td> 0   </td><td>0    </td><td>1    </td><td>0    </td><td>0    </td><td>1    </td><td>3    </td><td>4    </td><td>5    </td><td>10843</td><td>282  </td><td>1152 </td></tr>\n",
       "\t<tr><td>1    </td><td>15   </td><td>10   </td><td>0    </td><td>0    </td><td>1    </td><td>2    </td><td>0    </td><td>3    </td><td>4    </td><td>5    </td><td>11041</td><td>129  </td><td>1152 </td></tr>\n",
       "\t<tr><td>1    </td><td>21   </td><td> 1   </td><td>0    </td><td>1    </td><td>0    </td><td>0    </td><td>1    </td><td>3    </td><td>4    </td><td>5    </td><td>13206</td><td>287  </td><td>1152 </td></tr>\n",
       "\t<tr><td>0    </td><td>40   </td><td> 0   </td><td>0    </td><td>0    </td><td>1    </td><td>1    </td><td>0    </td><td>3    </td><td>4    </td><td>5    </td><td>10568</td><td> 73  </td><td>1152 </td></tr>\n",
       "\t<tr><td>0    </td><td>40   </td><td>17   </td><td>0    </td><td>0    </td><td>1    </td><td>1    </td><td>0    </td><td>3    </td><td>4    </td><td>5    </td><td>13578</td><td> 62  </td><td>1152 </td></tr>\n",
       "\t<tr><td>0    </td><td>21   </td><td>20   </td><td>0    </td><td>0    </td><td>1    </td><td>1    </td><td>0    </td><td>3    </td><td>4    </td><td>5    </td><td>10784</td><td>175  </td><td>1152 </td></tr>\n",
       "</tbody>\n",
       "</table>\n"
      ],
      "text/latex": [
       "\\begin{tabular}{r|llllllllllllll}\n",
       " Gender & Age & Occupation & City\\_Category\\_A & City\\_Category\\_B & City\\_Category\\_C & Stay\\_In\\_Current\\_City\\_Years & Marital\\_Status & Product\\_Category\\_1 & Product\\_Category\\_2 & Product\\_Category\\_3 & Purchase & User\\_Count & Product\\_Count\\\\\n",
       "\\hline\n",
       "\t 0     & 30    &  7    & 0     & 1     & 0     & 1     & 1     & 3     & 4     & 5     & 13642 & 197   & 1152 \\\\\n",
       "\t 0     & 40    & 20    & 0     & 1     & 0     & 4     & 0     & 3     & 4     & 5     &  8335 & 171   & 1152 \\\\\n",
       "\t 0     & 21    & 19    & 1     & 0     & 0     & 1     & 0     & 3     & 4     & 5     & 13374 &  39   & 1152 \\\\\n",
       "\t 1     & 21    &  1    & 0     & 0     & 1     & 1     & 1     & 3     & 4     & 5     & 10883 &  51   & 1152 \\\\\n",
       "\t 0     & 30    &  0    & 0     & 1     & 0     & 0     & 1     & 3     & 4     & 5     & 10843 & 282   & 1152 \\\\\n",
       "\t 1     & 15    & 10    & 0     & 0     & 1     & 2     & 0     & 3     & 4     & 5     & 11041 & 129   & 1152 \\\\\n",
       "\t 1     & 21    &  1    & 0     & 1     & 0     & 0     & 1     & 3     & 4     & 5     & 13206 & 287   & 1152 \\\\\n",
       "\t 0     & 40    &  0    & 0     & 0     & 1     & 1     & 0     & 3     & 4     & 5     & 10568 &  73   & 1152 \\\\\n",
       "\t 0     & 40    & 17    & 0     & 0     & 1     & 1     & 0     & 3     & 4     & 5     & 13578 &  62   & 1152 \\\\\n",
       "\t 0     & 21    & 20    & 0     & 0     & 1     & 1     & 0     & 3     & 4     & 5     & 10784 & 175   & 1152 \\\\\n",
       "\\end{tabular}\n"
      ],
      "text/markdown": [
       "\n",
       "| Gender | Age | Occupation | City_Category_A | City_Category_B | City_Category_C | Stay_In_Current_City_Years | Marital_Status | Product_Category_1 | Product_Category_2 | Product_Category_3 | Purchase | User_Count | Product_Count |\n",
       "|---|---|---|---|---|---|---|---|---|---|---|---|---|---|\n",
       "| 0     | 30    |  7    | 0     | 1     | 0     | 1     | 1     | 3     | 4     | 5     | 13642 | 197   | 1152  |\n",
       "| 0     | 40    | 20    | 0     | 1     | 0     | 4     | 0     | 3     | 4     | 5     |  8335 | 171   | 1152  |\n",
       "| 0     | 21    | 19    | 1     | 0     | 0     | 1     | 0     | 3     | 4     | 5     | 13374 |  39   | 1152  |\n",
       "| 1     | 21    |  1    | 0     | 0     | 1     | 1     | 1     | 3     | 4     | 5     | 10883 |  51   | 1152  |\n",
       "| 0     | 30    |  0    | 0     | 1     | 0     | 0     | 1     | 3     | 4     | 5     | 10843 | 282   | 1152  |\n",
       "| 1     | 15    | 10    | 0     | 0     | 1     | 2     | 0     | 3     | 4     | 5     | 11041 | 129   | 1152  |\n",
       "| 1     | 21    |  1    | 0     | 1     | 0     | 0     | 1     | 3     | 4     | 5     | 13206 | 287   | 1152  |\n",
       "| 0     | 40    |  0    | 0     | 0     | 1     | 1     | 0     | 3     | 4     | 5     | 10568 |  73   | 1152  |\n",
       "| 0     | 40    | 17    | 0     | 0     | 1     | 1     | 0     | 3     | 4     | 5     | 13578 |  62   | 1152  |\n",
       "| 0     | 21    | 20    | 0     | 0     | 1     | 1     | 0     | 3     | 4     | 5     | 10784 | 175   | 1152  |\n",
       "\n"
      ],
      "text/plain": [
       "   Gender Age Occupation City_Category_A City_Category_B City_Category_C\n",
       "1  0      30   7         0               1               0              \n",
       "2  0      40  20         0               1               0              \n",
       "3  0      21  19         1               0               0              \n",
       "4  1      21   1         0               0               1              \n",
       "5  0      30   0         0               1               0              \n",
       "6  1      15  10         0               0               1              \n",
       "7  1      21   1         0               1               0              \n",
       "8  0      40   0         0               0               1              \n",
       "9  0      40  17         0               0               1              \n",
       "10 0      21  20         0               0               1              \n",
       "   Stay_In_Current_City_Years Marital_Status Product_Category_1\n",
       "1  1                          1              3                 \n",
       "2  4                          0              3                 \n",
       "3  1                          0              3                 \n",
       "4  1                          1              3                 \n",
       "5  0                          1              3                 \n",
       "6  2                          0              3                 \n",
       "7  0                          1              3                 \n",
       "8  1                          0              3                 \n",
       "9  1                          0              3                 \n",
       "10 1                          0              3                 \n",
       "   Product_Category_2 Product_Category_3 Purchase User_Count Product_Count\n",
       "1  4                  5                  13642    197        1152         \n",
       "2  4                  5                   8335    171        1152         \n",
       "3  4                  5                  13374     39        1152         \n",
       "4  4                  5                  10883     51        1152         \n",
       "5  4                  5                  10843    282        1152         \n",
       "6  4                  5                  11041    129        1152         \n",
       "7  4                  5                  13206    287        1152         \n",
       "8  4                  5                  10568     73        1152         \n",
       "9  4                  5                  13578     62        1152         \n",
       "10 4                  5                  10784    175        1152         "
      ]
     },
     "metadata": {},
     "output_type": "display_data"
    },
    {
     "data": {
      "text/html": [
       "<table>\n",
       "<thead><tr><th scope=col>Gender</th><th scope=col>Age</th><th scope=col>Occupation</th><th scope=col>City_Category_A</th><th scope=col>City_Category_B</th><th scope=col>City_Category_C</th><th scope=col>Stay_In_Current_City_Years</th><th scope=col>Marital_Status</th><th scope=col>Product_Category_1</th><th scope=col>Product_Category_2</th><th scope=col>Product_Category_3</th><th scope=col>User_Count</th><th scope=col>Product_Count</th></tr></thead>\n",
       "<tbody>\n",
       "\t<tr><td>0   </td><td>48  </td><td>14  </td><td>0   </td><td>0   </td><td>1   </td><td>4   </td><td>1   </td><td>3   </td><td>4   </td><td>5   </td><td>120 </td><td>1152</td></tr>\n",
       "\t<tr><td>1   </td><td>40  </td><td>20  </td><td>0   </td><td>1   </td><td>0   </td><td>3   </td><td>0   </td><td>3   </td><td>4   </td><td>5   </td><td>363 </td><td>1152</td></tr>\n",
       "\t<tr><td>0   </td><td>15  </td><td> 0  </td><td>0   </td><td>1   </td><td>0   </td><td>1   </td><td>0   </td><td>3   </td><td>4   </td><td>5   </td><td> 46 </td><td>1152</td></tr>\n",
       "\t<tr><td>0   </td><td>21  </td><td> 4  </td><td>0   </td><td>0   </td><td>1   </td><td>3   </td><td>1   </td><td>3   </td><td>4   </td><td>5   </td><td> 56 </td><td>1152</td></tr>\n",
       "\t<tr><td>1   </td><td>53  </td><td> 6  </td><td>0   </td><td>1   </td><td>0   </td><td>3   </td><td>0   </td><td>3   </td><td>4   </td><td>5   </td><td>502 </td><td>1152</td></tr>\n",
       "\t<tr><td>1   </td><td>40  </td><td>12  </td><td>0   </td><td>1   </td><td>0   </td><td>2   </td><td>1   </td><td>3   </td><td>4   </td><td>5   </td><td>166 </td><td>1152</td></tr>\n",
       "\t<tr><td>0   </td><td>30  </td><td>16  </td><td>0   </td><td>0   </td><td>1   </td><td>1   </td><td>1   </td><td>3   </td><td>4   </td><td>5   </td><td>112 </td><td>1152</td></tr>\n",
       "\t<tr><td>0   </td><td>30  </td><td> 2  </td><td>0   </td><td>1   </td><td>0   </td><td>1   </td><td>0   </td><td>3   </td><td>4   </td><td>5   </td><td>149 </td><td>1152</td></tr>\n",
       "\t<tr><td>0   </td><td>30  </td><td>17  </td><td>0   </td><td>0   </td><td>1   </td><td>3   </td><td>0   </td><td>3   </td><td>4   </td><td>5   </td><td> 93 </td><td>1152</td></tr>\n",
       "\t<tr><td>0   </td><td>30  </td><td>17  </td><td>1   </td><td>0   </td><td>0   </td><td>2   </td><td>0   </td><td>3   </td><td>4   </td><td>5   </td><td>190 </td><td>1152</td></tr>\n",
       "</tbody>\n",
       "</table>\n"
      ],
      "text/latex": [
       "\\begin{tabular}{r|lllllllllllll}\n",
       " Gender & Age & Occupation & City\\_Category\\_A & City\\_Category\\_B & City\\_Category\\_C & Stay\\_In\\_Current\\_City\\_Years & Marital\\_Status & Product\\_Category\\_1 & Product\\_Category\\_2 & Product\\_Category\\_3 & User\\_Count & Product\\_Count\\\\\n",
       "\\hline\n",
       "\t 0    & 48   & 14   & 0    & 0    & 1    & 4    & 1    & 3    & 4    & 5    & 120  & 1152\\\\\n",
       "\t 1    & 40   & 20   & 0    & 1    & 0    & 3    & 0    & 3    & 4    & 5    & 363  & 1152\\\\\n",
       "\t 0    & 15   &  0   & 0    & 1    & 0    & 1    & 0    & 3    & 4    & 5    &  46  & 1152\\\\\n",
       "\t 0    & 21   &  4   & 0    & 0    & 1    & 3    & 1    & 3    & 4    & 5    &  56  & 1152\\\\\n",
       "\t 1    & 53   &  6   & 0    & 1    & 0    & 3    & 0    & 3    & 4    & 5    & 502  & 1152\\\\\n",
       "\t 1    & 40   & 12   & 0    & 1    & 0    & 2    & 1    & 3    & 4    & 5    & 166  & 1152\\\\\n",
       "\t 0    & 30   & 16   & 0    & 0    & 1    & 1    & 1    & 3    & 4    & 5    & 112  & 1152\\\\\n",
       "\t 0    & 30   &  2   & 0    & 1    & 0    & 1    & 0    & 3    & 4    & 5    & 149  & 1152\\\\\n",
       "\t 0    & 30   & 17   & 0    & 0    & 1    & 3    & 0    & 3    & 4    & 5    &  93  & 1152\\\\\n",
       "\t 0    & 30   & 17   & 1    & 0    & 0    & 2    & 0    & 3    & 4    & 5    & 190  & 1152\\\\\n",
       "\\end{tabular}\n"
      ],
      "text/markdown": [
       "\n",
       "| Gender | Age | Occupation | City_Category_A | City_Category_B | City_Category_C | Stay_In_Current_City_Years | Marital_Status | Product_Category_1 | Product_Category_2 | Product_Category_3 | User_Count | Product_Count |\n",
       "|---|---|---|---|---|---|---|---|---|---|---|---|---|\n",
       "| 0    | 48   | 14   | 0    | 0    | 1    | 4    | 1    | 3    | 4    | 5    | 120  | 1152 |\n",
       "| 1    | 40   | 20   | 0    | 1    | 0    | 3    | 0    | 3    | 4    | 5    | 363  | 1152 |\n",
       "| 0    | 15   |  0   | 0    | 1    | 0    | 1    | 0    | 3    | 4    | 5    |  46  | 1152 |\n",
       "| 0    | 21   |  4   | 0    | 0    | 1    | 3    | 1    | 3    | 4    | 5    |  56  | 1152 |\n",
       "| 1    | 53   |  6   | 0    | 1    | 0    | 3    | 0    | 3    | 4    | 5    | 502  | 1152 |\n",
       "| 1    | 40   | 12   | 0    | 1    | 0    | 2    | 1    | 3    | 4    | 5    | 166  | 1152 |\n",
       "| 0    | 30   | 16   | 0    | 0    | 1    | 1    | 1    | 3    | 4    | 5    | 112  | 1152 |\n",
       "| 0    | 30   |  2   | 0    | 1    | 0    | 1    | 0    | 3    | 4    | 5    | 149  | 1152 |\n",
       "| 0    | 30   | 17   | 0    | 0    | 1    | 3    | 0    | 3    | 4    | 5    |  93  | 1152 |\n",
       "| 0    | 30   | 17   | 1    | 0    | 0    | 2    | 0    | 3    | 4    | 5    | 190  | 1152 |\n",
       "\n"
      ],
      "text/plain": [
       "   Gender Age Occupation City_Category_A City_Category_B City_Category_C\n",
       "1  0      48  14         0               0               1              \n",
       "2  1      40  20         0               1               0              \n",
       "3  0      15   0         0               1               0              \n",
       "4  0      21   4         0               0               1              \n",
       "5  1      53   6         0               1               0              \n",
       "6  1      40  12         0               1               0              \n",
       "7  0      30  16         0               0               1              \n",
       "8  0      30   2         0               1               0              \n",
       "9  0      30  17         0               0               1              \n",
       "10 0      30  17         1               0               0              \n",
       "   Stay_In_Current_City_Years Marital_Status Product_Category_1\n",
       "1  4                          1              3                 \n",
       "2  3                          0              3                 \n",
       "3  1                          0              3                 \n",
       "4  3                          1              3                 \n",
       "5  3                          0              3                 \n",
       "6  2                          1              3                 \n",
       "7  1                          1              3                 \n",
       "8  1                          0              3                 \n",
       "9  3                          0              3                 \n",
       "10 2                          0              3                 \n",
       "   Product_Category_2 Product_Category_3 User_Count Product_Count\n",
       "1  4                  5                  120        1152         \n",
       "2  4                  5                  363        1152         \n",
       "3  4                  5                   46        1152         \n",
       "4  4                  5                   56        1152         \n",
       "5  4                  5                  502        1152         \n",
       "6  4                  5                  166        1152         \n",
       "7  4                  5                  112        1152         \n",
       "8  4                  5                  149        1152         \n",
       "9  4                  5                   93        1152         \n",
       "10 4                  5                  190        1152         "
      ]
     },
     "metadata": {},
     "output_type": "display_data"
    }
   ],
   "source": [
    "head(train,n=10)\n",
    "head(test,n=10)"
   ]
  },
  {
   "cell_type": "code",
   "execution_count": null,
   "metadata": {},
   "outputs": [],
   "source": [
    "train[-12] <- scale(train[-12])\n",
    "test <- scale(test)\n",
    "head(train)\n",
    "head(test)"
   ]
  },
  {
   "cell_type": "markdown",
   "metadata": {},
   "source": [
    "## XGBoost"
   ]
  },
  {
   "cell_type": "code",
   "execution_count": 32,
   "metadata": {},
   "outputs": [],
   "source": [
    "# Splitting dataset\n",
    "library(caTools)\n",
    "set.seed(101)\n",
    "split = sample.split(train$Purchase, SplitRatio = 0.8)\n",
    "training_set = subset(train, split == TRUE)\n",
    "test_set = subset(train, split == FALSE)"
   ]
  },
  {
   "cell_type": "code",
   "execution_count": 33,
   "metadata": {
    "scrolled": false
   },
   "outputs": [
    {
     "data": {
      "text/html": [
       "<table>\n",
       "<thead><tr><th scope=col>Gender</th><th scope=col>Age</th><th scope=col>Occupation</th><th scope=col>City_Category_A</th><th scope=col>City_Category_B</th><th scope=col>City_Category_C</th><th scope=col>Stay_In_Current_City_Years</th><th scope=col>Marital_Status</th><th scope=col>Product_Category_1</th><th scope=col>Product_Category_2</th><th scope=col>Product_Category_3</th><th scope=col>Purchase</th><th scope=col>User_Count</th><th scope=col>Product_Count</th></tr></thead>\n",
       "<tbody>\n",
       "\t<tr><td>-0.5725691</td><td>-0.3834178</td><td>-0.1650717</td><td>-0.6059242</td><td> 1.1745051</td><td>-0.6721427</td><td>-0.6657276</td><td> 1.2004532</td><td>-0.6108082</td><td>-1.319546 </td><td>-3.653469 </td><td>13642     </td><td>-0.1108568</td><td>1.930671  </td></tr>\n",
       "\t<tr><td>-0.5725691</td><td> 0.5217883</td><td> 1.8279800</td><td>-0.6059242</td><td> 1.1745051</td><td>-0.6721427</td><td> 1.6608592</td><td>-0.8330172</td><td>-0.6108082</td><td>-1.319546 </td><td>-3.653469 </td><td> 8335     </td><td>-0.2594018</td><td>1.930671  </td></tr>\n",
       "\t<tr><td>-0.5725691</td><td>-1.1981032</td><td> 1.6746684</td><td> 1.6503683</td><td>-0.8514209</td><td>-0.6721427</td><td>-0.6657276</td><td>-0.8330172</td><td>-0.6108082</td><td>-1.319546 </td><td>-3.653469 </td><td>13374     </td><td>-1.0135533</td><td>1.930671  </td></tr>\n",
       "\t<tr><td> 1.7465109</td><td>-1.1981032</td><td>-1.0849418</td><td>-0.6059242</td><td>-0.8514209</td><td> 1.4877766</td><td>-0.6657276</td><td> 1.2004532</td><td>-0.6108082</td><td>-1.319546 </td><td>-3.653469 </td><td>10883     </td><td>-0.9449941</td><td>1.930671  </td></tr>\n",
       "\t<tr><td>-0.5725691</td><td>-0.3834178</td><td>-1.2382535</td><td>-0.6059242</td><td> 1.1745051</td><td>-0.6721427</td><td>-1.4412565</td><td> 1.2004532</td><td>-0.6108082</td><td>-1.319546 </td><td>-3.653469 </td><td>10843     </td><td> 0.3747710</td><td>1.930671  </td></tr>\n",
       "\t<tr><td> 1.7465109</td><td>-1.7412269</td><td> 0.2948633</td><td>-0.6059242</td><td>-0.8514209</td><td> 1.4877766</td><td> 0.1098013</td><td>-0.8330172</td><td>-0.6108082</td><td>-1.319546 </td><td>-3.653469 </td><td>11041     </td><td>-0.4993591</td><td>1.930671  </td></tr>\n",
       "\t<tr><td> 1.7465109</td><td>-1.1981032</td><td>-1.0849418</td><td>-0.6059242</td><td> 1.1745051</td><td>-0.6721427</td><td>-1.4412565</td><td> 1.2004532</td><td>-0.6108082</td><td>-1.319546 </td><td>-3.653469 </td><td>13206     </td><td> 0.4033373</td><td>1.930671  </td></tr>\n",
       "\t<tr><td>-0.5725691</td><td> 0.5217883</td><td>-1.2382535</td><td>-0.6059242</td><td>-0.8514209</td><td> 1.4877766</td><td>-0.6657276</td><td>-0.8330172</td><td>-0.6108082</td><td>-1.319546 </td><td>-3.653469 </td><td>10568     </td><td>-0.8193022</td><td>1.930671  </td></tr>\n",
       "\t<tr><td>-0.5725691</td><td> 0.5217883</td><td> 1.3680450</td><td>-0.6059242</td><td>-0.8514209</td><td> 1.4877766</td><td>-0.6657276</td><td>-0.8330172</td><td>-0.6108082</td><td>-1.319546 </td><td>-3.653469 </td><td>13578     </td><td>-0.8821481</td><td>1.930671  </td></tr>\n",
       "\t<tr><td>-0.5725691</td><td>-1.1981032</td><td> 1.8279800</td><td>-0.6059242</td><td>-0.8514209</td><td> 1.4877766</td><td>-0.6657276</td><td>-0.8330172</td><td>-0.6108082</td><td>-1.319546 </td><td>-3.653469 </td><td>10784     </td><td>-0.2365488</td><td>1.930671  </td></tr>\n",
       "</tbody>\n",
       "</table>\n"
      ],
      "text/latex": [
       "\\begin{tabular}{r|llllllllllllll}\n",
       " Gender & Age & Occupation & City\\_Category\\_A & City\\_Category\\_B & City\\_Category\\_C & Stay\\_In\\_Current\\_City\\_Years & Marital\\_Status & Product\\_Category\\_1 & Product\\_Category\\_2 & Product\\_Category\\_3 & Purchase & User\\_Count & Product\\_Count\\\\\n",
       "\\hline\n",
       "\t -0.5725691 & -0.3834178 & -0.1650717 & -0.6059242 &  1.1745051 & -0.6721427 & -0.6657276 &  1.2004532 & -0.6108082 & -1.319546  & -3.653469  & 13642      & -0.1108568 & 1.930671  \\\\\n",
       "\t -0.5725691 &  0.5217883 &  1.8279800 & -0.6059242 &  1.1745051 & -0.6721427 &  1.6608592 & -0.8330172 & -0.6108082 & -1.319546  & -3.653469  &  8335      & -0.2594018 & 1.930671  \\\\\n",
       "\t -0.5725691 & -1.1981032 &  1.6746684 &  1.6503683 & -0.8514209 & -0.6721427 & -0.6657276 & -0.8330172 & -0.6108082 & -1.319546  & -3.653469  & 13374      & -1.0135533 & 1.930671  \\\\\n",
       "\t  1.7465109 & -1.1981032 & -1.0849418 & -0.6059242 & -0.8514209 &  1.4877766 & -0.6657276 &  1.2004532 & -0.6108082 & -1.319546  & -3.653469  & 10883      & -0.9449941 & 1.930671  \\\\\n",
       "\t -0.5725691 & -0.3834178 & -1.2382535 & -0.6059242 &  1.1745051 & -0.6721427 & -1.4412565 &  1.2004532 & -0.6108082 & -1.319546  & -3.653469  & 10843      &  0.3747710 & 1.930671  \\\\\n",
       "\t  1.7465109 & -1.7412269 &  0.2948633 & -0.6059242 & -0.8514209 &  1.4877766 &  0.1098013 & -0.8330172 & -0.6108082 & -1.319546  & -3.653469  & 11041      & -0.4993591 & 1.930671  \\\\\n",
       "\t  1.7465109 & -1.1981032 & -1.0849418 & -0.6059242 &  1.1745051 & -0.6721427 & -1.4412565 &  1.2004532 & -0.6108082 & -1.319546  & -3.653469  & 13206      &  0.4033373 & 1.930671  \\\\\n",
       "\t -0.5725691 &  0.5217883 & -1.2382535 & -0.6059242 & -0.8514209 &  1.4877766 & -0.6657276 & -0.8330172 & -0.6108082 & -1.319546  & -3.653469  & 10568      & -0.8193022 & 1.930671  \\\\\n",
       "\t -0.5725691 &  0.5217883 &  1.3680450 & -0.6059242 & -0.8514209 &  1.4877766 & -0.6657276 & -0.8330172 & -0.6108082 & -1.319546  & -3.653469  & 13578      & -0.8821481 & 1.930671  \\\\\n",
       "\t -0.5725691 & -1.1981032 &  1.8279800 & -0.6059242 & -0.8514209 &  1.4877766 & -0.6657276 & -0.8330172 & -0.6108082 & -1.319546  & -3.653469  & 10784      & -0.2365488 & 1.930671  \\\\\n",
       "\\end{tabular}\n"
      ],
      "text/markdown": [
       "\n",
       "| Gender | Age | Occupation | City_Category_A | City_Category_B | City_Category_C | Stay_In_Current_City_Years | Marital_Status | Product_Category_1 | Product_Category_2 | Product_Category_3 | Purchase | User_Count | Product_Count |\n",
       "|---|---|---|---|---|---|---|---|---|---|---|---|---|---|\n",
       "| -0.5725691 | -0.3834178 | -0.1650717 | -0.6059242 |  1.1745051 | -0.6721427 | -0.6657276 |  1.2004532 | -0.6108082 | -1.319546  | -3.653469  | 13642      | -0.1108568 | 1.930671   |\n",
       "| -0.5725691 |  0.5217883 |  1.8279800 | -0.6059242 |  1.1745051 | -0.6721427 |  1.6608592 | -0.8330172 | -0.6108082 | -1.319546  | -3.653469  |  8335      | -0.2594018 | 1.930671   |\n",
       "| -0.5725691 | -1.1981032 |  1.6746684 |  1.6503683 | -0.8514209 | -0.6721427 | -0.6657276 | -0.8330172 | -0.6108082 | -1.319546  | -3.653469  | 13374      | -1.0135533 | 1.930671   |\n",
       "|  1.7465109 | -1.1981032 | -1.0849418 | -0.6059242 | -0.8514209 |  1.4877766 | -0.6657276 |  1.2004532 | -0.6108082 | -1.319546  | -3.653469  | 10883      | -0.9449941 | 1.930671   |\n",
       "| -0.5725691 | -0.3834178 | -1.2382535 | -0.6059242 |  1.1745051 | -0.6721427 | -1.4412565 |  1.2004532 | -0.6108082 | -1.319546  | -3.653469  | 10843      |  0.3747710 | 1.930671   |\n",
       "|  1.7465109 | -1.7412269 |  0.2948633 | -0.6059242 | -0.8514209 |  1.4877766 |  0.1098013 | -0.8330172 | -0.6108082 | -1.319546  | -3.653469  | 11041      | -0.4993591 | 1.930671   |\n",
       "|  1.7465109 | -1.1981032 | -1.0849418 | -0.6059242 |  1.1745051 | -0.6721427 | -1.4412565 |  1.2004532 | -0.6108082 | -1.319546  | -3.653469  | 13206      |  0.4033373 | 1.930671   |\n",
       "| -0.5725691 |  0.5217883 | -1.2382535 | -0.6059242 | -0.8514209 |  1.4877766 | -0.6657276 | -0.8330172 | -0.6108082 | -1.319546  | -3.653469  | 10568      | -0.8193022 | 1.930671   |\n",
       "| -0.5725691 |  0.5217883 |  1.3680450 | -0.6059242 | -0.8514209 |  1.4877766 | -0.6657276 | -0.8330172 | -0.6108082 | -1.319546  | -3.653469  | 13578      | -0.8821481 | 1.930671   |\n",
       "| -0.5725691 | -1.1981032 |  1.8279800 | -0.6059242 | -0.8514209 |  1.4877766 | -0.6657276 | -0.8330172 | -0.6108082 | -1.319546  | -3.653469  | 10784      | -0.2365488 | 1.930671   |\n",
       "\n"
      ],
      "text/plain": [
       "   Gender     Age        Occupation City_Category_A City_Category_B\n",
       "1  -0.5725691 -0.3834178 -0.1650717 -0.6059242       1.1745051     \n",
       "2  -0.5725691  0.5217883  1.8279800 -0.6059242       1.1745051     \n",
       "3  -0.5725691 -1.1981032  1.6746684  1.6503683      -0.8514209     \n",
       "4   1.7465109 -1.1981032 -1.0849418 -0.6059242      -0.8514209     \n",
       "5  -0.5725691 -0.3834178 -1.2382535 -0.6059242       1.1745051     \n",
       "6   1.7465109 -1.7412269  0.2948633 -0.6059242      -0.8514209     \n",
       "7   1.7465109 -1.1981032 -1.0849418 -0.6059242       1.1745051     \n",
       "8  -0.5725691  0.5217883 -1.2382535 -0.6059242      -0.8514209     \n",
       "9  -0.5725691  0.5217883  1.3680450 -0.6059242      -0.8514209     \n",
       "10 -0.5725691 -1.1981032  1.8279800 -0.6059242      -0.8514209     \n",
       "   City_Category_C Stay_In_Current_City_Years Marital_Status Product_Category_1\n",
       "1  -0.6721427      -0.6657276                  1.2004532     -0.6108082        \n",
       "2  -0.6721427       1.6608592                 -0.8330172     -0.6108082        \n",
       "3  -0.6721427      -0.6657276                 -0.8330172     -0.6108082        \n",
       "4   1.4877766      -0.6657276                  1.2004532     -0.6108082        \n",
       "5  -0.6721427      -1.4412565                  1.2004532     -0.6108082        \n",
       "6   1.4877766       0.1098013                 -0.8330172     -0.6108082        \n",
       "7  -0.6721427      -1.4412565                  1.2004532     -0.6108082        \n",
       "8   1.4877766      -0.6657276                 -0.8330172     -0.6108082        \n",
       "9   1.4877766      -0.6657276                 -0.8330172     -0.6108082        \n",
       "10  1.4877766      -0.6657276                 -0.8330172     -0.6108082        \n",
       "   Product_Category_2 Product_Category_3 Purchase User_Count Product_Count\n",
       "1  -1.319546          -3.653469          13642    -0.1108568 1.930671     \n",
       "2  -1.319546          -3.653469           8335    -0.2594018 1.930671     \n",
       "3  -1.319546          -3.653469          13374    -1.0135533 1.930671     \n",
       "4  -1.319546          -3.653469          10883    -0.9449941 1.930671     \n",
       "5  -1.319546          -3.653469          10843     0.3747710 1.930671     \n",
       "6  -1.319546          -3.653469          11041    -0.4993591 1.930671     \n",
       "7  -1.319546          -3.653469          13206     0.4033373 1.930671     \n",
       "8  -1.319546          -3.653469          10568    -0.8193022 1.930671     \n",
       "9  -1.319546          -3.653469          13578    -0.8821481 1.930671     \n",
       "10 -1.319546          -3.653469          10784    -0.2365488 1.930671     "
      ]
     },
     "metadata": {},
     "output_type": "display_data"
    },
    {
     "data": {
      "text/html": [
       "<table>\n",
       "<thead><tr><th></th><th scope=col>Gender</th><th scope=col>Age</th><th scope=col>Occupation</th><th scope=col>City_Category_A</th><th scope=col>City_Category_B</th><th scope=col>City_Category_C</th><th scope=col>Stay_In_Current_City_Years</th><th scope=col>Marital_Status</th><th scope=col>Product_Category_1</th><th scope=col>Product_Category_2</th><th scope=col>Product_Category_3</th><th scope=col>Purchase</th><th scope=col>User_Count</th><th scope=col>Product_Count</th></tr></thead>\n",
       "<tbody>\n",
       "\t<tr><th scope=row>14</th><td>-0.5725691</td><td>-1.1981032</td><td>-0.6250068</td><td>-0.6059242</td><td> 1.1745051</td><td>-0.6721427</td><td> 0.1098013</td><td>-0.8330172</td><td>-0.6108082</td><td>-1.319546 </td><td>-3.653469 </td><td>13354     </td><td>-0.9907002</td><td>1.930671  </td></tr>\n",
       "\t<tr><th scope=row>15</th><td>-0.5725691</td><td>-0.3834178</td><td>-0.1650717</td><td>-0.6059242</td><td> 1.1745051</td><td>-0.6721427</td><td> 0.8853302</td><td>-0.8330172</td><td>-0.6108082</td><td>-1.319546 </td><td>-3.653469 </td><td>13594     </td><td> 0.5518823</td><td>1.930671  </td></tr>\n",
       "\t<tr><th scope=row>27</th><td>-0.5725691</td><td>-0.3834178</td><td> 0.9081100</td><td>-0.6059242</td><td> 1.1745051</td><td>-0.6721427</td><td> 0.1098013</td><td>-0.8330172</td><td>-0.6108082</td><td>-1.319546 </td><td>-3.653469 </td><td>13649     </td><td>-0.7107501</td><td>1.930671  </td></tr>\n",
       "\t<tr><th scope=row>29</th><td> 1.7465109</td><td>-1.7412269</td><td> 0.2948633</td><td>-0.6059242</td><td>-0.8514209</td><td> 1.4877766</td><td>-0.6657276</td><td>-0.8330172</td><td>-0.6108082</td><td>-1.319546 </td><td>-3.653469 </td><td>10780     </td><td>-0.9678472</td><td>1.930671  </td></tr>\n",
       "\t<tr><th scope=row>36</th><td>-0.5725691</td><td> 1.2459531</td><td> 0.6014866</td><td>-0.6059242</td><td> 1.1745051</td><td>-0.6721427</td><td> 0.8853302</td><td> 1.2004532</td><td>-0.6108082</td><td>-1.319546 </td><td>-3.653469 </td><td>13704     </td><td>-0.8764349</td><td>1.930671  </td></tr>\n",
       "\t<tr><th scope=row>37</th><td> 1.7465109</td><td> 0.5217883</td><td>-0.1650717</td><td> 1.6503683</td><td>-0.8514209</td><td>-0.6721427</td><td> 1.6608592</td><td> 1.2004532</td><td>-0.6108082</td><td>-1.319546 </td><td>-3.653469 </td><td>13614     </td><td>-0.1565630</td><td>1.930671  </td></tr>\n",
       "\t<tr><th scope=row>49</th><td> 1.7465109</td><td>-0.3834178</td><td>-0.7783184</td><td> 1.6503683</td><td>-0.8514209</td><td>-0.6721427</td><td> 0.8853302</td><td>-0.8330172</td><td>-0.6108082</td><td>-1.319546 </td><td>-3.653469 </td><td>13449     </td><td> 2.0316189</td><td>1.930671  </td></tr>\n",
       "\t<tr><th scope=row>51</th><td>-0.5725691</td><td> 1.2459531</td><td>-1.0849418</td><td>-0.6059242</td><td> 1.1745051</td><td>-0.6721427</td><td>-0.6657276</td><td>-0.8330172</td><td>-0.6108082</td><td>-1.319546 </td><td>-3.653469 </td><td>10935     </td><td> 1.1174959</td><td>1.930671  </td></tr>\n",
       "\t<tr><th scope=row>52</th><td>-0.5725691</td><td> 0.5217883</td><td>-0.1650717</td><td>-0.6059242</td><td> 1.1745051</td><td>-0.6721427</td><td> 0.1098013</td><td>-0.8330172</td><td>-0.6108082</td><td>-1.319546 </td><td>-3.653469 </td><td> 8011     </td><td>-0.9964135</td><td>1.930671  </td></tr>\n",
       "\t<tr><th scope=row>56</th><td>-0.5725691</td><td> 0.5217883</td><td>-0.3183834</td><td>-0.6059242</td><td>-0.8514209</td><td> 1.4877766</td><td>-0.6657276</td><td> 1.2004532</td><td>-0.6108082</td><td>-1.319546 </td><td>-3.653469 </td><td>13287     </td><td>-0.8821481</td><td>1.930671  </td></tr>\n",
       "</tbody>\n",
       "</table>\n"
      ],
      "text/latex": [
       "\\begin{tabular}{r|llllllllllllll}\n",
       "  & Gender & Age & Occupation & City\\_Category\\_A & City\\_Category\\_B & City\\_Category\\_C & Stay\\_In\\_Current\\_City\\_Years & Marital\\_Status & Product\\_Category\\_1 & Product\\_Category\\_2 & Product\\_Category\\_3 & Purchase & User\\_Count & Product\\_Count\\\\\n",
       "\\hline\n",
       "\t14 & -0.5725691 & -1.1981032 & -0.6250068 & -0.6059242 &  1.1745051 & -0.6721427 &  0.1098013 & -0.8330172 & -0.6108082 & -1.319546  & -3.653469  & 13354      & -0.9907002 & 1.930671  \\\\\n",
       "\t15 & -0.5725691 & -0.3834178 & -0.1650717 & -0.6059242 &  1.1745051 & -0.6721427 &  0.8853302 & -0.8330172 & -0.6108082 & -1.319546  & -3.653469  & 13594      &  0.5518823 & 1.930671  \\\\\n",
       "\t27 & -0.5725691 & -0.3834178 &  0.9081100 & -0.6059242 &  1.1745051 & -0.6721427 &  0.1098013 & -0.8330172 & -0.6108082 & -1.319546  & -3.653469  & 13649      & -0.7107501 & 1.930671  \\\\\n",
       "\t29 &  1.7465109 & -1.7412269 &  0.2948633 & -0.6059242 & -0.8514209 &  1.4877766 & -0.6657276 & -0.8330172 & -0.6108082 & -1.319546  & -3.653469  & 10780      & -0.9678472 & 1.930671  \\\\\n",
       "\t36 & -0.5725691 &  1.2459531 &  0.6014866 & -0.6059242 &  1.1745051 & -0.6721427 &  0.8853302 &  1.2004532 & -0.6108082 & -1.319546  & -3.653469  & 13704      & -0.8764349 & 1.930671  \\\\\n",
       "\t37 &  1.7465109 &  0.5217883 & -0.1650717 &  1.6503683 & -0.8514209 & -0.6721427 &  1.6608592 &  1.2004532 & -0.6108082 & -1.319546  & -3.653469  & 13614      & -0.1565630 & 1.930671  \\\\\n",
       "\t49 &  1.7465109 & -0.3834178 & -0.7783184 &  1.6503683 & -0.8514209 & -0.6721427 &  0.8853302 & -0.8330172 & -0.6108082 & -1.319546  & -3.653469  & 13449      &  2.0316189 & 1.930671  \\\\\n",
       "\t51 & -0.5725691 &  1.2459531 & -1.0849418 & -0.6059242 &  1.1745051 & -0.6721427 & -0.6657276 & -0.8330172 & -0.6108082 & -1.319546  & -3.653469  & 10935      &  1.1174959 & 1.930671  \\\\\n",
       "\t52 & -0.5725691 &  0.5217883 & -0.1650717 & -0.6059242 &  1.1745051 & -0.6721427 &  0.1098013 & -0.8330172 & -0.6108082 & -1.319546  & -3.653469  &  8011      & -0.9964135 & 1.930671  \\\\\n",
       "\t56 & -0.5725691 &  0.5217883 & -0.3183834 & -0.6059242 & -0.8514209 &  1.4877766 & -0.6657276 &  1.2004532 & -0.6108082 & -1.319546  & -3.653469  & 13287      & -0.8821481 & 1.930671  \\\\\n",
       "\\end{tabular}\n"
      ],
      "text/markdown": [
       "\n",
       "| <!--/--> | Gender | Age | Occupation | City_Category_A | City_Category_B | City_Category_C | Stay_In_Current_City_Years | Marital_Status | Product_Category_1 | Product_Category_2 | Product_Category_3 | Purchase | User_Count | Product_Count |\n",
       "|---|---|---|---|---|---|---|---|---|---|---|---|---|---|---|\n",
       "| 14 | -0.5725691 | -1.1981032 | -0.6250068 | -0.6059242 |  1.1745051 | -0.6721427 |  0.1098013 | -0.8330172 | -0.6108082 | -1.319546  | -3.653469  | 13354      | -0.9907002 | 1.930671   |\n",
       "| 15 | -0.5725691 | -0.3834178 | -0.1650717 | -0.6059242 |  1.1745051 | -0.6721427 |  0.8853302 | -0.8330172 | -0.6108082 | -1.319546  | -3.653469  | 13594      |  0.5518823 | 1.930671   |\n",
       "| 27 | -0.5725691 | -0.3834178 |  0.9081100 | -0.6059242 |  1.1745051 | -0.6721427 |  0.1098013 | -0.8330172 | -0.6108082 | -1.319546  | -3.653469  | 13649      | -0.7107501 | 1.930671   |\n",
       "| 29 |  1.7465109 | -1.7412269 |  0.2948633 | -0.6059242 | -0.8514209 |  1.4877766 | -0.6657276 | -0.8330172 | -0.6108082 | -1.319546  | -3.653469  | 10780      | -0.9678472 | 1.930671   |\n",
       "| 36 | -0.5725691 |  1.2459531 |  0.6014866 | -0.6059242 |  1.1745051 | -0.6721427 |  0.8853302 |  1.2004532 | -0.6108082 | -1.319546  | -3.653469  | 13704      | -0.8764349 | 1.930671   |\n",
       "| 37 |  1.7465109 |  0.5217883 | -0.1650717 |  1.6503683 | -0.8514209 | -0.6721427 |  1.6608592 |  1.2004532 | -0.6108082 | -1.319546  | -3.653469  | 13614      | -0.1565630 | 1.930671   |\n",
       "| 49 |  1.7465109 | -0.3834178 | -0.7783184 |  1.6503683 | -0.8514209 | -0.6721427 |  0.8853302 | -0.8330172 | -0.6108082 | -1.319546  | -3.653469  | 13449      |  2.0316189 | 1.930671   |\n",
       "| 51 | -0.5725691 |  1.2459531 | -1.0849418 | -0.6059242 |  1.1745051 | -0.6721427 | -0.6657276 | -0.8330172 | -0.6108082 | -1.319546  | -3.653469  | 10935      |  1.1174959 | 1.930671   |\n",
       "| 52 | -0.5725691 |  0.5217883 | -0.1650717 | -0.6059242 |  1.1745051 | -0.6721427 |  0.1098013 | -0.8330172 | -0.6108082 | -1.319546  | -3.653469  |  8011      | -0.9964135 | 1.930671   |\n",
       "| 56 | -0.5725691 |  0.5217883 | -0.3183834 | -0.6059242 | -0.8514209 |  1.4877766 | -0.6657276 |  1.2004532 | -0.6108082 | -1.319546  | -3.653469  | 13287      | -0.8821481 | 1.930671   |\n",
       "\n"
      ],
      "text/plain": [
       "   Gender     Age        Occupation City_Category_A City_Category_B\n",
       "14 -0.5725691 -1.1981032 -0.6250068 -0.6059242       1.1745051     \n",
       "15 -0.5725691 -0.3834178 -0.1650717 -0.6059242       1.1745051     \n",
       "27 -0.5725691 -0.3834178  0.9081100 -0.6059242       1.1745051     \n",
       "29  1.7465109 -1.7412269  0.2948633 -0.6059242      -0.8514209     \n",
       "36 -0.5725691  1.2459531  0.6014866 -0.6059242       1.1745051     \n",
       "37  1.7465109  0.5217883 -0.1650717  1.6503683      -0.8514209     \n",
       "49  1.7465109 -0.3834178 -0.7783184  1.6503683      -0.8514209     \n",
       "51 -0.5725691  1.2459531 -1.0849418 -0.6059242       1.1745051     \n",
       "52 -0.5725691  0.5217883 -0.1650717 -0.6059242       1.1745051     \n",
       "56 -0.5725691  0.5217883 -0.3183834 -0.6059242      -0.8514209     \n",
       "   City_Category_C Stay_In_Current_City_Years Marital_Status Product_Category_1\n",
       "14 -0.6721427       0.1098013                 -0.8330172     -0.6108082        \n",
       "15 -0.6721427       0.8853302                 -0.8330172     -0.6108082        \n",
       "27 -0.6721427       0.1098013                 -0.8330172     -0.6108082        \n",
       "29  1.4877766      -0.6657276                 -0.8330172     -0.6108082        \n",
       "36 -0.6721427       0.8853302                  1.2004532     -0.6108082        \n",
       "37 -0.6721427       1.6608592                  1.2004532     -0.6108082        \n",
       "49 -0.6721427       0.8853302                 -0.8330172     -0.6108082        \n",
       "51 -0.6721427      -0.6657276                 -0.8330172     -0.6108082        \n",
       "52 -0.6721427       0.1098013                 -0.8330172     -0.6108082        \n",
       "56  1.4877766      -0.6657276                  1.2004532     -0.6108082        \n",
       "   Product_Category_2 Product_Category_3 Purchase User_Count Product_Count\n",
       "14 -1.319546          -3.653469          13354    -0.9907002 1.930671     \n",
       "15 -1.319546          -3.653469          13594     0.5518823 1.930671     \n",
       "27 -1.319546          -3.653469          13649    -0.7107501 1.930671     \n",
       "29 -1.319546          -3.653469          10780    -0.9678472 1.930671     \n",
       "36 -1.319546          -3.653469          13704    -0.8764349 1.930671     \n",
       "37 -1.319546          -3.653469          13614    -0.1565630 1.930671     \n",
       "49 -1.319546          -3.653469          13449     2.0316189 1.930671     \n",
       "51 -1.319546          -3.653469          10935     1.1174959 1.930671     \n",
       "52 -1.319546          -3.653469           8011    -0.9964135 1.930671     \n",
       "56 -1.319546          -3.653469          13287    -0.8821481 1.930671     "
      ]
     },
     "metadata": {},
     "output_type": "display_data"
    }
   ],
   "source": [
    "head(training_set,n=10)\n",
    "head(test_set,n=10)"
   ]
  },
  {
   "cell_type": "code",
   "execution_count": 38,
   "metadata": {},
   "outputs": [
    {
     "name": "stdout",
     "output_type": "stream",
     "text": [
      "[1]\ttrain-rmse:7658.208984 \n",
      "[2]\ttrain-rmse:5734.727051 \n",
      "[3]\ttrain-rmse:4495.583496 \n",
      "[4]\ttrain-rmse:3754.638184 \n",
      "[5]\ttrain-rmse:3323.639893 \n",
      "[6]\ttrain-rmse:3089.620117 \n",
      "[7]\ttrain-rmse:2946.941895 \n",
      "[8]\ttrain-rmse:2876.735596 \n",
      "[9]\ttrain-rmse:2832.124023 \n",
      "[10]\ttrain-rmse:2804.943848 \n",
      "[11]\ttrain-rmse:2790.642822 \n",
      "[12]\ttrain-rmse:2780.256836 \n",
      "[13]\ttrain-rmse:2774.291992 \n",
      "[14]\ttrain-rmse:2770.184570 \n",
      "[15]\ttrain-rmse:2763.536865 \n",
      "[16]\ttrain-rmse:2758.240723 \n",
      "[17]\ttrain-rmse:2752.966064 \n",
      "[18]\ttrain-rmse:2747.686523 \n",
      "[19]\ttrain-rmse:2744.581543 \n",
      "[20]\ttrain-rmse:2740.189209 \n",
      "[21]\ttrain-rmse:2735.930664 \n",
      "[22]\ttrain-rmse:2732.334961 \n",
      "[23]\ttrain-rmse:2728.497559 \n",
      "[24]\ttrain-rmse:2726.815674 \n",
      "[25]\ttrain-rmse:2721.825439 \n",
      "[26]\ttrain-rmse:2719.653564 \n",
      "[27]\ttrain-rmse:2717.352783 \n",
      "[28]\ttrain-rmse:2716.227051 \n",
      "[29]\ttrain-rmse:2715.280273 \n",
      "[30]\ttrain-rmse:2712.790527 \n",
      "[31]\ttrain-rmse:2709.069580 \n",
      "[32]\ttrain-rmse:2705.806152 \n",
      "[33]\ttrain-rmse:2702.874023 \n",
      "[34]\ttrain-rmse:2700.908936 \n",
      "[35]\ttrain-rmse:2698.805420 \n",
      "[36]\ttrain-rmse:2698.092041 \n",
      "[37]\ttrain-rmse:2694.704102 \n",
      "[38]\ttrain-rmse:2691.729980 \n",
      "[39]\ttrain-rmse:2689.125977 \n",
      "[40]\ttrain-rmse:2686.684570 \n",
      "[41]\ttrain-rmse:2683.788574 \n",
      "[42]\ttrain-rmse:2680.926025 \n",
      "[43]\ttrain-rmse:2675.624512 \n",
      "[44]\ttrain-rmse:2674.341797 \n",
      "[45]\ttrain-rmse:2672.891113 \n",
      "[46]\ttrain-rmse:2669.525635 \n",
      "[47]\ttrain-rmse:2668.435791 \n",
      "[48]\ttrain-rmse:2665.900635 \n",
      "[49]\ttrain-rmse:2665.043213 \n",
      "[50]\ttrain-rmse:2662.161133 \n",
      "[51]\ttrain-rmse:2659.526855 \n",
      "[52]\ttrain-rmse:2657.937256 \n",
      "[53]\ttrain-rmse:2656.010498 \n",
      "[54]\ttrain-rmse:2654.390625 \n",
      "[55]\ttrain-rmse:2653.306885 \n",
      "[56]\ttrain-rmse:2651.565674 \n",
      "[57]\ttrain-rmse:2649.877686 \n",
      "[58]\ttrain-rmse:2647.881348 \n",
      "[59]\ttrain-rmse:2647.149658 \n",
      "[60]\ttrain-rmse:2645.122559 \n",
      "[61]\ttrain-rmse:2642.435059 \n",
      "[62]\ttrain-rmse:2639.497559 \n",
      "[63]\ttrain-rmse:2639.020996 \n",
      "[64]\ttrain-rmse:2637.043945 \n",
      "[65]\ttrain-rmse:2634.611328 \n",
      "[66]\ttrain-rmse:2633.453857 \n",
      "[67]\ttrain-rmse:2630.983154 \n",
      "[68]\ttrain-rmse:2630.321533 \n",
      "[69]\ttrain-rmse:2629.232178 \n",
      "[70]\ttrain-rmse:2628.547363 \n",
      "[71]\ttrain-rmse:2627.426514 \n",
      "[72]\ttrain-rmse:2626.071777 \n",
      "[73]\ttrain-rmse:2624.685547 \n",
      "[74]\ttrain-rmse:2624.250000 \n",
      "[75]\ttrain-rmse:2622.951660 \n",
      "[76]\ttrain-rmse:2620.565430 \n",
      "[77]\ttrain-rmse:2617.901367 \n",
      "[78]\ttrain-rmse:2617.386230 \n",
      "[79]\ttrain-rmse:2615.476807 \n",
      "[80]\ttrain-rmse:2614.232422 \n",
      "[81]\ttrain-rmse:2612.772949 \n",
      "[82]\ttrain-rmse:2610.035645 \n",
      "[83]\ttrain-rmse:2607.789062 \n",
      "[84]\ttrain-rmse:2605.621582 \n",
      "[85]\ttrain-rmse:2604.236572 \n",
      "[86]\ttrain-rmse:2603.202148 \n",
      "[87]\ttrain-rmse:2602.191406 \n",
      "[88]\ttrain-rmse:2600.782471 \n",
      "[89]\ttrain-rmse:2600.049561 \n",
      "[90]\ttrain-rmse:2599.188232 \n",
      "[91]\ttrain-rmse:2598.815186 \n",
      "[92]\ttrain-rmse:2596.710938 \n",
      "[93]\ttrain-rmse:2595.779541 \n",
      "[94]\ttrain-rmse:2593.620850 \n",
      "[95]\ttrain-rmse:2591.645508 \n",
      "[96]\ttrain-rmse:2590.397949 \n",
      "[97]\ttrain-rmse:2589.890137 \n",
      "[98]\ttrain-rmse:2588.581543 \n",
      "[99]\ttrain-rmse:2587.154053 \n",
      "[100]\ttrain-rmse:2585.574707 \n"
     ]
    },
    {
     "data": {
      "text/html": [
       "<ol class=list-inline>\n",
       "\t<li>11268.33203125</li>\n",
       "\t<li>11218.2392578125</li>\n",
       "\t<li>11105.302734375</li>\n",
       "\t<li>11368.0302734375</li>\n",
       "\t<li>11049.953125</li>\n",
       "\t<li>12287.71484375</li>\n",
       "\t<li>9893.9013671875</li>\n",
       "\t<li>11117.8349609375</li>\n",
       "\t<li>11267.9052734375</li>\n",
       "\t<li>11066.3916015625</li>\n",
       "</ol>\n"
      ],
      "text/latex": [
       "\\begin{enumerate*}\n",
       "\\item 11268.33203125\n",
       "\\item 11218.2392578125\n",
       "\\item 11105.302734375\n",
       "\\item 11368.0302734375\n",
       "\\item 11049.953125\n",
       "\\item 12287.71484375\n",
       "\\item 9893.9013671875\n",
       "\\item 11117.8349609375\n",
       "\\item 11267.9052734375\n",
       "\\item 11066.3916015625\n",
       "\\end{enumerate*}\n"
      ],
      "text/markdown": [
       "1. 11268.33203125\n",
       "2. 11218.2392578125\n",
       "3. 11105.302734375\n",
       "4. 11368.0302734375\n",
       "5. 11049.953125\n",
       "6. 12287.71484375\n",
       "7. 9893.9013671875\n",
       "8. 11117.8349609375\n",
       "9. 11267.9052734375\n",
       "10. 11066.3916015625\n",
       "\n",
       "\n"
      ],
      "text/plain": [
       " [1] 11268.332 11218.239 11105.303 11368.030 11049.953 12287.715  9893.901\n",
       " [8] 11117.835 11267.905 11066.392"
      ]
     },
     "metadata": {},
     "output_type": "display_data"
    }
   ],
   "source": [
    "# Fitting XGBoost to the Training set\n",
    "# install.packages('xgboost')\n",
    "library(xgboost)\n",
    "model_X = xgboost(data = as.matrix(training_set[-12]), label = training_set$Purchase, nrounds = 100)\n",
    "\n",
    "# Predicting the Test set results\n",
    "y_predX = predict(model_X, newdata = as.matrix(test_set[-12]))\n",
    "head(y_predX,n=10)"
   ]
  },
  {
   "cell_type": "code",
   "execution_count": 39,
   "metadata": {},
   "outputs": [
    {
     "data": {
      "text/html": [
       "2601.01582860056"
      ],
      "text/latex": [
       "2601.01582860056"
      ],
      "text/markdown": [
       "2601.01582860056"
      ],
      "text/plain": [
       "[1] 2601.016"
      ]
     },
     "metadata": {},
     "output_type": "display_data"
    }
   ],
   "source": [
    "# Making the RMSE\n",
    "rmse_X <- sqrt(mean((test_set$Purchase-y_predX)^2))\n",
    "rmse_X"
   ]
  },
  {
   "cell_type": "markdown",
   "metadata": {},
   "source": [
    "###### We got a root mean squarred of 2601.01582860056 using XGBoost."
   ]
  },
  {
   "cell_type": "markdown",
   "metadata": {},
   "source": [
    "#### New Improved XGBoost model"
   ]
  },
  {
   "cell_type": "code",
   "execution_count": 40,
   "metadata": {},
   "outputs": [],
   "source": [
    "X_features <- c( \"Gender\" ,                   \n",
    "                 \"Age\" , \"Occupation\" ,  \"City_Category_A\" ,\n",
    "                 \"City_Category_B\" , \"City_Category_C\" ,\n",
    "                 \"Stay_In_Current_City_Years\" , \"Product_Category_1\" ,       \n",
    "                 \"Product_Category_2\" , \"Product_Category_3\" ,\n",
    "                 \"User_Count\" , \"Product_Count\")\n",
    "X_target <- training_set$Purchase\n",
    "xgtrain <- xgb.DMatrix(data = as.matrix(training_set[,X_features]), label = X_target, missing = NA)\n",
    "xgtest <- xgb.DMatrix(data =as.matrix(test_set[,X_features]), missing=NA)"
   ]
  },
  {
   "cell_type": "code",
   "execution_count": 41,
   "metadata": {},
   "outputs": [],
   "source": [
    "#Setting Parameters\n",
    "params <- list()\n",
    "params$objective <- \"reg:linear\"\n",
    "params$eta <- 0.23\n",
    "params$max_depth <- 10\n",
    "params$subsample <- 1\n",
    "params$colsample_bytree <- 1\n",
    "params$min_child_weight <- 2\n",
    "params$eval_metric <- \"rmse\""
   ]
  },
  {
   "cell_type": "code",
   "execution_count": 42,
   "metadata": {
    "scrolled": true
   },
   "outputs": [
    {
     "data": {
      "text/html": [
       "<ol class=list-inline>\n",
       "\t<li>11354.86328125</li>\n",
       "\t<li>11420.6533203125</li>\n",
       "\t<li>11578.6376953125</li>\n",
       "\t<li>11314.8408203125</li>\n",
       "\t<li>11172.3896484375</li>\n",
       "\t<li>12244.84375</li>\n",
       "\t<li>10770.8203125</li>\n",
       "\t<li>11183.845703125</li>\n",
       "\t<li>11202.5625</li>\n",
       "\t<li>12288.001953125</li>\n",
       "\t<li>10802.490234375</li>\n",
       "\t<li>12341.580078125</li>\n",
       "\t<li>11483.9697265625</li>\n",
       "\t<li>10390.7470703125</li>\n",
       "\t<li>11641.384765625</li>\n",
       "</ol>\n"
      ],
      "text/latex": [
       "\\begin{enumerate*}\n",
       "\\item 11354.86328125\n",
       "\\item 11420.6533203125\n",
       "\\item 11578.6376953125\n",
       "\\item 11314.8408203125\n",
       "\\item 11172.3896484375\n",
       "\\item 12244.84375\n",
       "\\item 10770.8203125\n",
       "\\item 11183.845703125\n",
       "\\item 11202.5625\n",
       "\\item 12288.001953125\n",
       "\\item 10802.490234375\n",
       "\\item 12341.580078125\n",
       "\\item 11483.9697265625\n",
       "\\item 10390.7470703125\n",
       "\\item 11641.384765625\n",
       "\\end{enumerate*}\n"
      ],
      "text/markdown": [
       "1. 11354.86328125\n",
       "2. 11420.6533203125\n",
       "3. 11578.6376953125\n",
       "4. 11314.8408203125\n",
       "5. 11172.3896484375\n",
       "6. 12244.84375\n",
       "7. 10770.8203125\n",
       "8. 11183.845703125\n",
       "9. 11202.5625\n",
       "10. 12288.001953125\n",
       "11. 10802.490234375\n",
       "12. 12341.580078125\n",
       "13. 11483.9697265625\n",
       "14. 10390.7470703125\n",
       "15. 11641.384765625\n",
       "\n",
       "\n"
      ],
      "text/plain": [
       " [1] 11354.86 11420.65 11578.64 11314.84 11172.39 12244.84 10770.82 11183.85\n",
       " [9] 11202.56 12288.00 10802.49 12341.58 11483.97 10390.75 11641.38"
      ]
     },
     "metadata": {},
     "output_type": "display_data"
    }
   ],
   "source": [
    "#Model building \n",
    "model_xgb <- xgb.train(params <- params, xgtrain, nrounds <- 100)\n",
    "\n",
    "#Predicting \n",
    "pred_boost <- predict(model_xgb, xgtest)\n",
    "head(pred_boost,n=15)"
   ]
  },
  {
   "cell_type": "code",
   "execution_count": 44,
   "metadata": {},
   "outputs": [
    {
     "data": {
      "text/html": [
       "2519.35260331917"
      ],
      "text/latex": [
       "2519.35260331917"
      ],
      "text/markdown": [
       "2519.35260331917"
      ],
      "text/plain": [
       "[1] 2519.353"
      ]
     },
     "metadata": {},
     "output_type": "display_data"
    }
   ],
   "source": [
    "# Making the RMSE\n",
    "rmse <- sqrt(mean((test_set$Purchase-pred_boost)^2))\n",
    "rmse"
   ]
  },
  {
   "cell_type": "markdown",
   "metadata": {},
   "source": [
    "###### We got a new root mean squarred of 2519.40556233885."
   ]
  },
  {
   "cell_type": "markdown",
   "metadata": {},
   "source": [
    "## Decession Tree"
   ]
  },
  {
   "cell_type": "code",
   "execution_count": 34,
   "metadata": {
    "scrolled": false
   },
   "outputs": [
    {
     "name": "stdout",
     "output_type": "stream",
     "text": [
      "n= 440584 \n",
      "\n",
      "node), split, n, deviance, yval\n",
      "      * denotes terminal node\n",
      "\n",
      " 1) root 440584 1.113152e+13  9269.612  \n",
      "   2) Product_Category_1>=2.5 309143 5.736358e+12  7573.206  \n",
      "     4) Product_Category_1< 5.5 146347 9.559414e+11  6415.638  \n",
      "       8) Product_Category_1>=3.5 130192 5.798474e+11  5957.868  \n",
      "        16) Product_Category_1< 4.5 9372 6.193268e+09  2327.094 *\n",
      "        17) Product_Category_1>=4.5 120820 4.405240e+11  6239.507 *\n",
      "       9) Product_Category_1< 3.5 16155 1.289477e+11 10104.770 *\n",
      "     5) Product_Category_1>=5.5 162796 4.408032e+12  8613.812  \n",
      "      10) Product_Category_1>=7.5 143377 2.917937e+12  7626.824  \n",
      "        20) Product_Category_1< 13.5 122709 1.625468e+12  7095.149  \n",
      "          40) Product_Category_1>=10.5 27004 1.413691e+11  3643.554 *\n",
      "          41) Product_Category_1< 10.5 95705 1.071613e+12  8069.046  \n",
      "            82) Product_Category_1< 8.5 91041 3.686920e+11  7499.007 *\n",
      "            83) Product_Category_1>=8.5 4664 9.587463e+10 19196.170 *\n",
      "        21) Product_Category_1>=13.5 20668 1.051838e+12 10783.460  \n",
      "          42) Product_Category_1>=17.5 5819 1.207604e+10  1410.071 *\n",
      "          43) Product_Category_1< 17.5 14849 3.281503e+11 14456.690 *\n",
      "      11) Product_Category_1< 7.5 19419 3.191936e+11 15901.080 *\n",
      "   3) Product_Category_1< 2.5 131441 2.413096e+12 13259.480  \n",
      "     6) Product_Count< 389.5 51011 9.181220e+11 11527.810 *\n",
      "     7) Product_Count>=389.5 80430 1.244992e+12 14357.760 *\n",
      "Call:\n",
      "rpart(formula = Purchase ~ Occupation + City_Category_A + City_Category_B + \n",
      "    City_Category_C + Stay_In_Current_City_Years + Marital_Status + \n",
      "    Product_Category_1 + Product_Category_2 + Product_Category_3 + \n",
      "    User_Count + Product_Count, data = training_set)\n",
      "  n= 440584 \n",
      "\n",
      "          CP nsplit rel error    xerror         xstd\n",
      "1 0.26789390      0 1.0000000 1.0000039 0.0019416630\n",
      "2 0.06932055      1 0.7321061 0.7321138 0.0020254242\n",
      "3 0.04428360      3 0.5934650 0.5934748 0.0017005935\n",
      "4 0.02245711      7 0.4163306 0.4163477 0.0010167921\n",
      "5 0.02220239      8 0.3938735 0.3917864 0.0009646553\n",
      "6 0.01195974      9 0.3716711 0.3716901 0.0009387758\n",
      "7 0.01000000     10 0.3597114 0.3597305 0.0009413583\n",
      "\n",
      "Variable importance\n",
      "Product_Category_1 Product_Category_2 Product_Category_3      Product_Count \n",
      "                66                 19                  9                  6 \n",
      "\n",
      "Node number 1: 440584 observations,    complexity param=0.2678939\n",
      "  mean=9269.612, MSE=2.526538e+07 \n",
      "  left son=2 (309143 obs) right son=3 (131441 obs)\n",
      "  Primary splits:\n",
      "      Product_Category_1 < 2.5   to the right, improve=0.26789390, (0 missing)\n",
      "      Product_Count      < 901   to the left,  improve=0.08484816, (0 missing)\n",
      "      Product_Category_2 < 3.5   to the right, improve=0.07303571, (0 missing)\n",
      "      Product_Category_3 < 14.5  to the left,  improve=0.05202580, (0 missing)\n",
      "      User_Count         < 222.5 to the right, improve=0.00750914, (0 missing)\n",
      "  Surrogate splits:\n",
      "      Product_Category_2 < 6.5   to the right, agree=0.800, adj=0.328, (0 split)\n",
      "      Product_Category_3 < 14.5  to the left,  agree=0.760, adj=0.195, (0 split)\n",
      "      Product_Count      < 1430  to the left,  agree=0.715, adj=0.044, (0 split)\n",
      "\n",
      "Node number 2: 309143 observations,    complexity param=0.06932055\n",
      "  mean=7573.206, MSE=1.855568e+07 \n",
      "  left son=4 (146347 obs) right son=5 (162796 obs)\n",
      "  Primary splits:\n",
      "      Product_Category_1 < 5.5   to the left,  improve=0.064916680, (0 missing)\n",
      "      Product_Count      < 968.5 to the left,  improve=0.036432810, (0 missing)\n",
      "      Product_Category_2 < 4.5   to the right, improve=0.014087580, (0 missing)\n",
      "      Product_Category_3 < 6.5   to the right, improve=0.007415906, (0 missing)\n",
      "      User_Count         < 257.5 to the right, improve=0.004219686, (0 missing)\n",
      "  Surrogate splits:\n",
      "      Product_Category_2 < 8.5   to the left,  agree=0.670, adj=0.303, (0 split)\n",
      "      Product_Category_3 < 12.5  to the left,  agree=0.576, adj=0.105, (0 split)\n",
      "      Product_Count      < 416.5 to the right, agree=0.555, adj=0.061, (0 split)\n",
      "\n",
      "Node number 3: 131441 observations,    complexity param=0.02245711\n",
      "  mean=13259.48, MSE=1.835877e+07 \n",
      "  left son=6 (51011 obs) right son=7 (80430 obs)\n",
      "  Primary splits:\n",
      "      Product_Count      < 389.5 to the left,  improve=0.103593800, (0 missing)\n",
      "      Product_Category_1 < 1.5   to the right, improve=0.037669170, (0 missing)\n",
      "      User_Count         < 204.5 to the right, improve=0.019683900, (0 missing)\n",
      "      City_Category_C    < 0.5   to the left,  improve=0.010484110, (0 missing)\n",
      "      Product_Category_3 < 16.5  to the left,  improve=0.007711495, (0 missing)\n",
      "  Surrogate splits:\n",
      "      Product_Category_1 < 1.5   to the right, agree=0.646, adj=0.087, (0 split)\n",
      "      User_Count         < 410   to the right, agree=0.628, adj=0.041, (0 split)\n",
      "      Product_Category_3 < 4.5   to the left,  agree=0.627, adj=0.039, (0 split)\n",
      "      Product_Category_2 < 16.5  to the right, agree=0.619, adj=0.017, (0 split)\n",
      "\n",
      "Node number 4: 146347 observations,    complexity param=0.02220239\n",
      "  mean=6415.638, MSE=6532019 \n",
      "  left son=8 (130192 obs) right son=9 (16155 obs)\n",
      "  Primary splits:\n",
      "      Product_Category_1 < 3.5   to the right, improve=0.25853710, (0 missing)\n",
      "      Product_Category_2 < 4.5   to the right, improve=0.19587420, (0 missing)\n",
      "      Product_Category_3 < 6.5   to the right, improve=0.09056677, (0 missing)\n",
      "      Product_Count      < 218   to the left,  improve=0.06184103, (0 missing)\n",
      "      User_Count         < 204.5 to the right, improve=0.01088501, (0 missing)\n",
      "  Surrogate splits:\n",
      "      Product_Category_2 < 4.5   to the right, agree=0.982, adj=0.833, (0 split)\n",
      "      Product_Category_3 < 6.5   to the right, agree=0.926, adj=0.329, (0 split)\n",
      "\n",
      "Node number 5: 162796 observations,    complexity param=0.06932055\n",
      "  mean=8613.812, MSE=2.707703e+07 \n",
      "  left son=10 (143377 obs) right son=11 (19419 obs)\n",
      "  Primary splits:\n",
      "      Product_Category_1 < 7.5   to the right, improve=0.265629000, (0 missing)\n",
      "      Product_Category_2 < 8.5   to the right, improve=0.122166800, (0 missing)\n",
      "      Product_Count      < 967.5 to the left,  improve=0.082475540, (0 missing)\n",
      "      Product_Category_3 < 13.5  to the right, improve=0.031897550, (0 missing)\n",
      "      User_Count         < 257.5 to the right, improve=0.003297681, (0 missing)\n",
      "  Surrogate splits:\n",
      "      Product_Category_2 < 8.5   to the right, agree=0.941, adj=0.505, (0 split)\n",
      "      Product_Category_3 < 13.5  to the right, agree=0.897, adj=0.138, (0 split)\n",
      "\n",
      "Node number 6: 51011 observations\n",
      "  mean=11527.81, MSE=1.799851e+07 \n",
      "\n",
      "Node number 7: 80430 observations\n",
      "  mean=14357.76, MSE=1.54792e+07 \n",
      "\n",
      "Node number 8: 130192 observations,    complexity param=0.01195974\n",
      "  mean=5957.868, MSE=4453786 \n",
      "  left son=16 (9372 obs) right son=17 (120820 obs)\n",
      "  Primary splits:\n",
      "      Product_Category_1 < 4.5   to the left,  improve=0.22959510, (0 missing)\n",
      "      Product_Category_2 < 5.5   to the left,  improve=0.17214020, (0 missing)\n",
      "      Product_Count      < 204.5 to the left,  improve=0.06438514, (0 missing)\n",
      "      Product_Category_3 < 12.5  to the left,  improve=0.03391445, (0 missing)\n",
      "      User_Count         < 257.5 to the right, improve=0.01262398, (0 missing)\n",
      "  Surrogate splits:\n",
      "      Product_Category_2 < 5.5   to the left,  agree=0.981, adj=0.729, (0 split)\n",
      "      Product_Category_3 < 10    to the left,  agree=0.938, adj=0.139, (0 split)\n",
      "\n",
      "Node number 9: 16155 observations\n",
      "  mean=10104.77, MSE=7981904 \n",
      "\n",
      "Node number 10: 143377 observations,    complexity param=0.0442836\n",
      "  mean=7626.824, MSE=2.03515e+07 \n",
      "  left son=20 (122709 obs) right son=21 (20668 obs)\n",
      "  Primary splits:\n",
      "      Product_Category_1 < 13.5  to the left,  improve=0.0824660500, (0 missing)\n",
      "      Product_Count      < 974   to the left,  improve=0.0468347800, (0 missing)\n",
      "      Product_Category_2 < 16.5  to the left,  improve=0.0041965870, (0 missing)\n",
      "      User_Count         < 257.5 to the right, improve=0.0026910820, (0 missing)\n",
      "      Product_Category_3 < 14.5  to the left,  improve=0.0008194017, (0 missing)\n",
      "\n",
      "Node number 11: 19419 observations\n",
      "  mean=15901.08, MSE=1.643718e+07 \n",
      "\n",
      "Node number 16: 9372 observations\n",
      "  mean=2327.094, MSE=660826.7 \n",
      "\n",
      "Node number 17: 120820 observations\n",
      "  mean=6239.507, MSE=3646118 \n",
      "\n",
      "Node number 20: 122709 observations,    complexity param=0.0442836\n",
      "  mean=7095.149, MSE=1.324653e+07 \n",
      "  left son=40 (27004 obs) right son=41 (95705 obs)\n",
      "  Primary splits:\n",
      "      Product_Category_1 < 10.5  to the right, improve=0.253764500, (0 missing)\n",
      "      Product_Count      < 613   to the left,  improve=0.045640320, (0 missing)\n",
      "      User_Count         < 257.5 to the right, improve=0.008196106, (0 missing)\n",
      "      Product_Category_3 < 14.5  to the left,  improve=0.005995350, (0 missing)\n",
      "      Product_Category_2 < 16.5  to the left,  improve=0.002996866, (0 missing)\n",
      "\n",
      "Node number 21: 20668 observations,    complexity param=0.0442836\n",
      "  mean=10783.46, MSE=5.089211e+07 \n",
      "  left son=42 (5819 obs) right son=43 (14849 obs)\n",
      "  Primary splits:\n",
      "      Product_Category_1 < 17.5  to the right, improve=0.676541200, (0 missing)\n",
      "      Product_Count      < 761   to the right, improve=0.197856900, (0 missing)\n",
      "      Product_Category_2 < 12.5  to the left,  improve=0.044600780, (0 missing)\n",
      "      User_Count         < 42.5  to the left,  improve=0.028234030, (0 missing)\n",
      "      City_Category_C    < 0.5   to the right, improve=0.006354913, (0 missing)\n",
      "  Surrogate splits:\n",
      "      Product_Count < 761   to the right, agree=0.826, adj=0.383, (0 split)\n",
      "      User_Count    < 18.5  to the left,  agree=0.726, adj=0.026, (0 split)\n",
      "\n",
      "Node number 40: 27004 observations\n",
      "  mean=3643.554, MSE=5235115 \n",
      "\n",
      "Node number 41: 95705 observations,    complexity param=0.0442836\n",
      "  mean=8069.046, MSE=1.119704e+07 \n",
      "  left son=82 (91041 obs) right son=83 (4664 obs)\n",
      "  Primary splits:\n",
      "      Product_Category_1 < 8.5   to the left,  improve=0.566479200, (0 missing)\n",
      "      Product_Count      < 239.5 to the left,  improve=0.046998730, (0 missing)\n",
      "      Product_Category_2 < 12.5  to the left,  improve=0.027050130, (0 missing)\n",
      "      Product_Category_3 < 15.5  to the left,  improve=0.020262370, (0 missing)\n",
      "      User_Count         < 222.5 to the right, improve=0.008724229, (0 missing)\n",
      "\n",
      "Node number 42: 5819 observations\n",
      "  mean=1410.071, MSE=2075278 \n",
      "\n",
      "Node number 43: 14849 observations\n",
      "  mean=14456.69, MSE=2.209915e+07 \n",
      "\n",
      "Node number 82: 91041 observations\n",
      "  mean=7499.007, MSE=4049736 \n",
      "\n",
      "Node number 83: 4664 observations\n",
      "  mean=19196.17, MSE=2.055631e+07 \n",
      "\n"
     ]
    },
    {
     "data": {
      "text/html": [
       "<table>\n",
       "<thead><tr><th></th><th scope=col>predicted</th><th scope=col>actual</th></tr></thead>\n",
       "<tbody>\n",
       "\t<tr><th scope=row>14</th><td>10104.77</td><td>13354   </td></tr>\n",
       "\t<tr><th scope=row>15</th><td>10104.77</td><td>13594   </td></tr>\n",
       "\t<tr><th scope=row>27</th><td>10104.77</td><td>13649   </td></tr>\n",
       "\t<tr><th scope=row>29</th><td>10104.77</td><td>10780   </td></tr>\n",
       "\t<tr><th scope=row>36</th><td>10104.77</td><td>13704   </td></tr>\n",
       "\t<tr><th scope=row>37</th><td>10104.77</td><td>13614   </td></tr>\n",
       "\t<tr><th scope=row>49</th><td>10104.77</td><td>13449   </td></tr>\n",
       "\t<tr><th scope=row>51</th><td>10104.77</td><td>10935   </td></tr>\n",
       "\t<tr><th scope=row>52</th><td>10104.77</td><td> 8011   </td></tr>\n",
       "\t<tr><th scope=row>56</th><td>10104.77</td><td>13287   </td></tr>\n",
       "\t<tr><th scope=row>74</th><td>10104.77</td><td>10732   </td></tr>\n",
       "\t<tr><th scope=row>75</th><td>10104.77</td><td>13240   </td></tr>\n",
       "\t<tr><th scope=row>79</th><td>10104.77</td><td>10982   </td></tr>\n",
       "\t<tr><th scope=row>85</th><td>10104.77</td><td> 8136   </td></tr>\n",
       "\t<tr><th scope=row>89</th><td>10104.77</td><td> 8326   </td></tr>\n",
       "</tbody>\n",
       "</table>\n"
      ],
      "text/latex": [
       "\\begin{tabular}{r|ll}\n",
       "  & predicted & actual\\\\\n",
       "\\hline\n",
       "\t14 & 10104.77 & 13354   \\\\\n",
       "\t15 & 10104.77 & 13594   \\\\\n",
       "\t27 & 10104.77 & 13649   \\\\\n",
       "\t29 & 10104.77 & 10780   \\\\\n",
       "\t36 & 10104.77 & 13704   \\\\\n",
       "\t37 & 10104.77 & 13614   \\\\\n",
       "\t49 & 10104.77 & 13449   \\\\\n",
       "\t51 & 10104.77 & 10935   \\\\\n",
       "\t52 & 10104.77 &  8011   \\\\\n",
       "\t56 & 10104.77 & 13287   \\\\\n",
       "\t74 & 10104.77 & 10732   \\\\\n",
       "\t75 & 10104.77 & 13240   \\\\\n",
       "\t79 & 10104.77 & 10982   \\\\\n",
       "\t85 & 10104.77 &  8136   \\\\\n",
       "\t89 & 10104.77 &  8326   \\\\\n",
       "\\end{tabular}\n"
      ],
      "text/markdown": [
       "\n",
       "| <!--/--> | predicted | actual |\n",
       "|---|---|---|\n",
       "| 14 | 10104.77 | 13354    |\n",
       "| 15 | 10104.77 | 13594    |\n",
       "| 27 | 10104.77 | 13649    |\n",
       "| 29 | 10104.77 | 10780    |\n",
       "| 36 | 10104.77 | 13704    |\n",
       "| 37 | 10104.77 | 13614    |\n",
       "| 49 | 10104.77 | 13449    |\n",
       "| 51 | 10104.77 | 10935    |\n",
       "| 52 | 10104.77 |  8011    |\n",
       "| 56 | 10104.77 | 13287    |\n",
       "| 74 | 10104.77 | 10732    |\n",
       "| 75 | 10104.77 | 13240    |\n",
       "| 79 | 10104.77 | 10982    |\n",
       "| 85 | 10104.77 |  8136    |\n",
       "| 89 | 10104.77 |  8326    |\n",
       "\n"
      ],
      "text/plain": [
       "   predicted actual\n",
       "14 10104.77  13354 \n",
       "15 10104.77  13594 \n",
       "27 10104.77  13649 \n",
       "29 10104.77  10780 \n",
       "36 10104.77  13704 \n",
       "37 10104.77  13614 \n",
       "49 10104.77  13449 \n",
       "51 10104.77  10935 \n",
       "52 10104.77   8011 \n",
       "56 10104.77  13287 \n",
       "74 10104.77  10732 \n",
       "75 10104.77  13240 \n",
       "79 10104.77  10982 \n",
       "85 10104.77   8136 \n",
       "89 10104.77   8326 "
      ]
     },
     "metadata": {},
     "output_type": "display_data"
    },
    {
     "data": {
      "text/html": [
       "2974.2294216271"
      ],
      "text/latex": [
       "2974.2294216271"
      ],
      "text/markdown": [
       "2974.2294216271"
      ],
      "text/plain": [
       "[1] 2974.229"
      ]
     },
     "metadata": {},
     "output_type": "display_data"
    }
   ],
   "source": [
    "#Decission tree mdoel of train set\n",
    "library(rpart)\n",
    "model_DT = rpart(`Purchase` ~ `Occupation` + `City_Category_A` + `City_Category_B` + `City_Category_C` + `Stay_In_Current_City_Years`+`Marital_Status`+`Product_Category_1`+`Product_Category_2`+`Product_Category_3` + `User_Count` + `Product_Count`,data = training_set)\n",
    "print(model_DT)\n",
    "summary(model_DT)\n",
    "\n",
    "#Prediction\n",
    "predictDT <- predict(model_DT,test_set)\n",
    "\n",
    "result <- cbind(predictDT,test_set$Purchase)\n",
    "colnames(result) <- c('predicted','actual')\n",
    "head(result,n=15)\n",
    "\n",
    "#Rmse for testset\n",
    "RMSE_DT <- sqrt(mean((test_set$Purchase-predictDT)^2))\n",
    "RMSE_DT"
   ]
  },
  {
   "cell_type": "markdown",
   "metadata": {},
   "source": [
    "###### The root mean squarred error is 2974.229421 using the Decission Tree model."
   ]
  },
  {
   "cell_type": "markdown",
   "metadata": {},
   "source": [
    "## Artificial Neural Network"
   ]
  },
  {
   "cell_type": "code",
   "execution_count": 40,
   "metadata": {},
   "outputs": [
    {
     "name": "stdout",
     "output_type": "stream",
     "text": [
      "\n",
      "H2O is not running yet, starting it now...\n",
      "\n",
      "Note:  In case of errors look at the following log files:\n",
      "    C:\\Users\\GOKU\\AppData\\Local\\Temp\\Rtmp04HetA/h2o_GOKU_started_from_r.out\n",
      "    C:\\Users\\GOKU\\AppData\\Local\\Temp\\Rtmp04HetA/h2o_GOKU_started_from_r.err\n",
      "\n",
      "\n",
      "Starting H2O JVM and connecting:  Connection successful!\n",
      "\n",
      "R is connected to the H2O cluster: \n",
      "    H2O cluster uptime:         3 seconds 203 milliseconds \n",
      "    H2O cluster timezone:       Asia/Kolkata \n",
      "    H2O data parsing timezone:  UTC \n",
      "    H2O cluster version:        3.26.0.2 \n",
      "    H2O cluster version age:    29 days  \n",
      "    H2O cluster name:           H2O_started_from_R_GOKU_iyi185 \n",
      "    H2O cluster total nodes:    1 \n",
      "    H2O cluster total memory:   0.86 GB \n",
      "    H2O cluster total cores:    2 \n",
      "    H2O cluster allowed cores:  2 \n",
      "    H2O cluster healthy:        TRUE \n",
      "    H2O Connection ip:          localhost \n",
      "    H2O Connection port:        54321 \n",
      "    H2O Connection proxy:       NA \n",
      "    H2O Internal Security:      FALSE \n",
      "    H2O API Extensions:         Amazon S3, Algos, AutoML, Core V3, Core V4 \n",
      "    R Version:                  R version 3.6.0 (2019-04-26) \n",
      "\n",
      "  |======================================================================| 100%\n",
      "  |======================================================================| 100%\n",
      "  |======================================================================| 100%\n",
      "  |======================================================================| 100%\n"
     ]
    },
    {
     "data": {
      "text/html": [
       "<ol class=list-inline>\n",
       "\t<li>10540.2185953411</li>\n",
       "\t<li>10833.3785011432</li>\n",
       "\t<li>10624.2665743968</li>\n",
       "\t<li>11153.1560506569</li>\n",
       "\t<li>10682.9619965351</li>\n",
       "\t<li>11369.3856164851</li>\n",
       "\t<li>12005.0846333964</li>\n",
       "\t<li>11231.7804799014</li>\n",
       "\t<li>10767.7542155162</li>\n",
       "\t<li>10968.7753447144</li>\n",
       "\t<li>10907.8283865023</li>\n",
       "\t<li>11527.8008365156</li>\n",
       "\t<li>10931.2488282899</li>\n",
       "\t<li>11281.7054043599</li>\n",
       "\t<li>10854.9045612324</li>\n",
       "</ol>\n"
      ],
      "text/latex": [
       "\\begin{enumerate*}\n",
       "\\item 10540.2185953411\n",
       "\\item 10833.3785011432\n",
       "\\item 10624.2665743968\n",
       "\\item 11153.1560506569\n",
       "\\item 10682.9619965351\n",
       "\\item 11369.3856164851\n",
       "\\item 12005.0846333964\n",
       "\\item 11231.7804799014\n",
       "\\item 10767.7542155162\n",
       "\\item 10968.7753447144\n",
       "\\item 10907.8283865023\n",
       "\\item 11527.8008365156\n",
       "\\item 10931.2488282899\n",
       "\\item 11281.7054043599\n",
       "\\item 10854.9045612324\n",
       "\\end{enumerate*}\n"
      ],
      "text/markdown": [
       "1. 10540.2185953411\n",
       "2. 10833.3785011432\n",
       "3. 10624.2665743968\n",
       "4. 11153.1560506569\n",
       "5. 10682.9619965351\n",
       "6. 11369.3856164851\n",
       "7. 12005.0846333964\n",
       "8. 11231.7804799014\n",
       "9. 10767.7542155162\n",
       "10. 10968.7753447144\n",
       "11. 10907.8283865023\n",
       "12. 11527.8008365156\n",
       "13. 10931.2488282899\n",
       "14. 11281.7054043599\n",
       "15. 10854.9045612324\n",
       "\n",
       "\n"
      ],
      "text/plain": [
       " [1] 10540.22 10833.38 10624.27 11153.16 10682.96 11369.39 12005.08 11231.78\n",
       " [9] 10767.75 10968.78 10907.83 11527.80 10931.25 11281.71 10854.90"
      ]
     },
     "metadata": {},
     "output_type": "display_data"
    },
    {
     "data": {
      "text/html": [
       "2835.50347397139"
      ],
      "text/latex": [
       "2835.50347397139"
      ],
      "text/markdown": [
       "2835.50347397139"
      ],
      "text/plain": [
       "[1] 2835.503"
      ]
     },
     "metadata": {},
     "output_type": "display_data"
    },
    {
     "name": "stdout",
     "output_type": "stream",
     "text": [
      "Are you sure you want to shutdown the H2O instance running at http://localhost:54321/ (Y/N)? y\n"
     ]
    },
    {
     "data": {
      "text/html": [
       "TRUE"
      ],
      "text/latex": [
       "TRUE"
      ],
      "text/markdown": [
       "TRUE"
      ],
      "text/plain": [
       "[1] TRUE"
      ]
     },
     "metadata": {},
     "output_type": "display_data"
    }
   ],
   "source": [
    "# Fitting ANN to the Training set\n",
    "# install.packages('h2o')\n",
    "library(h2o)\n",
    "h2o.init(nthreads = -1)\n",
    "model = h2o.deeplearning(y = 'Purchase',\n",
    "                         training_frame = as.h2o(training_set),\n",
    "                         activation = 'Rectifier',\n",
    "                         hidden = c(15,15),\n",
    "                         epochs = 2000,\n",
    "                         train_samples_per_iteration = -2)\n",
    "\n",
    "# Predicting the Test set results\n",
    "y_pred = h2o.predict(model, newdata = as.h2o(test_set[,-12]))\n",
    "y_pred = as.vector(y_pred)\n",
    "head(y_pred,n=15)\n",
    "\n",
    "#Rmse for testset\n",
    "RMSE <- sqrt(mean((test_set$Purchase-y_pred)^2))\n",
    "RMSE\n",
    "\n",
    "h2o.shutdown()"
   ]
  },
  {
   "cell_type": "markdown",
   "metadata": {},
   "source": [
    "###### The root mean squarred error of artificial neural network is 2835.50347. This one is better than the Decission Tree model.\n"
   ]
  },
  {
   "cell_type": "markdown",
   "metadata": {},
   "source": [
    "### We got our best model for prediction. Now let's work on train test"
   ]
  },
  {
   "cell_type": "code",
   "execution_count": 22,
   "metadata": {},
   "outputs": [
    {
     "data": {
      "text/html": [
       "<table>\n",
       "<thead><tr><th scope=col>Gender</th><th scope=col>Age</th><th scope=col>Occupation</th><th scope=col>City_Category_A</th><th scope=col>City_Category_B</th><th scope=col>City_Category_C</th><th scope=col>Stay_In_Current_City_Years</th><th scope=col>Marital_Status</th><th scope=col>Product_Category_1</th><th scope=col>Product_Category_2</th><th scope=col>Product_Category_3</th><th scope=col>Purchase</th><th scope=col>User_Count</th><th scope=col>Product_Count</th></tr></thead>\n",
       "<tbody>\n",
       "\t<tr><td>0    </td><td>30   </td><td> 7   </td><td>0    </td><td>1    </td><td>0    </td><td>1    </td><td>1    </td><td>3    </td><td>4    </td><td>5    </td><td>13642</td><td>197  </td><td>1152 </td></tr>\n",
       "\t<tr><td>0    </td><td>40   </td><td>20   </td><td>0    </td><td>1    </td><td>0    </td><td>4    </td><td>0    </td><td>3    </td><td>4    </td><td>5    </td><td> 8335</td><td>171  </td><td>1152 </td></tr>\n",
       "\t<tr><td>0    </td><td>21   </td><td>19   </td><td>1    </td><td>0    </td><td>0    </td><td>1    </td><td>0    </td><td>3    </td><td>4    </td><td>5    </td><td>13374</td><td> 39  </td><td>1152 </td></tr>\n",
       "\t<tr><td>1    </td><td>21   </td><td> 1   </td><td>0    </td><td>0    </td><td>1    </td><td>1    </td><td>1    </td><td>3    </td><td>4    </td><td>5    </td><td>10883</td><td> 51  </td><td>1152 </td></tr>\n",
       "\t<tr><td>0    </td><td>30   </td><td> 0   </td><td>0    </td><td>1    </td><td>0    </td><td>0    </td><td>1    </td><td>3    </td><td>4    </td><td>5    </td><td>10843</td><td>282  </td><td>1152 </td></tr>\n",
       "\t<tr><td>1    </td><td>15   </td><td>10   </td><td>0    </td><td>0    </td><td>1    </td><td>2    </td><td>0    </td><td>3    </td><td>4    </td><td>5    </td><td>11041</td><td>129  </td><td>1152 </td></tr>\n",
       "</tbody>\n",
       "</table>\n"
      ],
      "text/latex": [
       "\\begin{tabular}{r|llllllllllllll}\n",
       " Gender & Age & Occupation & City\\_Category\\_A & City\\_Category\\_B & City\\_Category\\_C & Stay\\_In\\_Current\\_City\\_Years & Marital\\_Status & Product\\_Category\\_1 & Product\\_Category\\_2 & Product\\_Category\\_3 & Purchase & User\\_Count & Product\\_Count\\\\\n",
       "\\hline\n",
       "\t 0     & 30    &  7    & 0     & 1     & 0     & 1     & 1     & 3     & 4     & 5     & 13642 & 197   & 1152 \\\\\n",
       "\t 0     & 40    & 20    & 0     & 1     & 0     & 4     & 0     & 3     & 4     & 5     &  8335 & 171   & 1152 \\\\\n",
       "\t 0     & 21    & 19    & 1     & 0     & 0     & 1     & 0     & 3     & 4     & 5     & 13374 &  39   & 1152 \\\\\n",
       "\t 1     & 21    &  1    & 0     & 0     & 1     & 1     & 1     & 3     & 4     & 5     & 10883 &  51   & 1152 \\\\\n",
       "\t 0     & 30    &  0    & 0     & 1     & 0     & 0     & 1     & 3     & 4     & 5     & 10843 & 282   & 1152 \\\\\n",
       "\t 1     & 15    & 10    & 0     & 0     & 1     & 2     & 0     & 3     & 4     & 5     & 11041 & 129   & 1152 \\\\\n",
       "\\end{tabular}\n"
      ],
      "text/markdown": [
       "\n",
       "| Gender | Age | Occupation | City_Category_A | City_Category_B | City_Category_C | Stay_In_Current_City_Years | Marital_Status | Product_Category_1 | Product_Category_2 | Product_Category_3 | Purchase | User_Count | Product_Count |\n",
       "|---|---|---|---|---|---|---|---|---|---|---|---|---|---|\n",
       "| 0     | 30    |  7    | 0     | 1     | 0     | 1     | 1     | 3     | 4     | 5     | 13642 | 197   | 1152  |\n",
       "| 0     | 40    | 20    | 0     | 1     | 0     | 4     | 0     | 3     | 4     | 5     |  8335 | 171   | 1152  |\n",
       "| 0     | 21    | 19    | 1     | 0     | 0     | 1     | 0     | 3     | 4     | 5     | 13374 |  39   | 1152  |\n",
       "| 1     | 21    |  1    | 0     | 0     | 1     | 1     | 1     | 3     | 4     | 5     | 10883 |  51   | 1152  |\n",
       "| 0     | 30    |  0    | 0     | 1     | 0     | 0     | 1     | 3     | 4     | 5     | 10843 | 282   | 1152  |\n",
       "| 1     | 15    | 10    | 0     | 0     | 1     | 2     | 0     | 3     | 4     | 5     | 11041 | 129   | 1152  |\n",
       "\n"
      ],
      "text/plain": [
       "  Gender Age Occupation City_Category_A City_Category_B City_Category_C\n",
       "1 0      30   7         0               1               0              \n",
       "2 0      40  20         0               1               0              \n",
       "3 0      21  19         1               0               0              \n",
       "4 1      21   1         0               0               1              \n",
       "5 0      30   0         0               1               0              \n",
       "6 1      15  10         0               0               1              \n",
       "  Stay_In_Current_City_Years Marital_Status Product_Category_1\n",
       "1 1                          1              3                 \n",
       "2 4                          0              3                 \n",
       "3 1                          0              3                 \n",
       "4 1                          1              3                 \n",
       "5 0                          1              3                 \n",
       "6 2                          0              3                 \n",
       "  Product_Category_2 Product_Category_3 Purchase User_Count Product_Count\n",
       "1 4                  5                  13642    197        1152         \n",
       "2 4                  5                   8335    171        1152         \n",
       "3 4                  5                  13374     39        1152         \n",
       "4 4                  5                  10883     51        1152         \n",
       "5 4                  5                  10843    282        1152         \n",
       "6 4                  5                  11041    129        1152         "
      ]
     },
     "metadata": {},
     "output_type": "display_data"
    },
    {
     "data": {
      "text/html": [
       "<table>\n",
       "<thead><tr><th scope=col>Gender</th><th scope=col>Age</th><th scope=col>Occupation</th><th scope=col>City_Category_A</th><th scope=col>City_Category_B</th><th scope=col>City_Category_C</th><th scope=col>Stay_In_Current_City_Years</th><th scope=col>Marital_Status</th><th scope=col>Product_Category_1</th><th scope=col>Product_Category_2</th><th scope=col>Product_Category_3</th><th scope=col>User_Count</th><th scope=col>Product_Count</th></tr></thead>\n",
       "<tbody>\n",
       "\t<tr><td>0   </td><td>48  </td><td>14  </td><td>0   </td><td>0   </td><td>1   </td><td>4   </td><td>1   </td><td>3   </td><td>4   </td><td>5   </td><td>120 </td><td>1152</td></tr>\n",
       "\t<tr><td>1   </td><td>40  </td><td>20  </td><td>0   </td><td>1   </td><td>0   </td><td>3   </td><td>0   </td><td>3   </td><td>4   </td><td>5   </td><td>363 </td><td>1152</td></tr>\n",
       "\t<tr><td>0   </td><td>15  </td><td> 0  </td><td>0   </td><td>1   </td><td>0   </td><td>1   </td><td>0   </td><td>3   </td><td>4   </td><td>5   </td><td> 46 </td><td>1152</td></tr>\n",
       "\t<tr><td>0   </td><td>21  </td><td> 4  </td><td>0   </td><td>0   </td><td>1   </td><td>3   </td><td>1   </td><td>3   </td><td>4   </td><td>5   </td><td> 56 </td><td>1152</td></tr>\n",
       "\t<tr><td>1   </td><td>53  </td><td> 6  </td><td>0   </td><td>1   </td><td>0   </td><td>3   </td><td>0   </td><td>3   </td><td>4   </td><td>5   </td><td>502 </td><td>1152</td></tr>\n",
       "\t<tr><td>1   </td><td>40  </td><td>12  </td><td>0   </td><td>1   </td><td>0   </td><td>2   </td><td>1   </td><td>3   </td><td>4   </td><td>5   </td><td>166 </td><td>1152</td></tr>\n",
       "</tbody>\n",
       "</table>\n"
      ],
      "text/latex": [
       "\\begin{tabular}{r|lllllllllllll}\n",
       " Gender & Age & Occupation & City\\_Category\\_A & City\\_Category\\_B & City\\_Category\\_C & Stay\\_In\\_Current\\_City\\_Years & Marital\\_Status & Product\\_Category\\_1 & Product\\_Category\\_2 & Product\\_Category\\_3 & User\\_Count & Product\\_Count\\\\\n",
       "\\hline\n",
       "\t 0    & 48   & 14   & 0    & 0    & 1    & 4    & 1    & 3    & 4    & 5    & 120  & 1152\\\\\n",
       "\t 1    & 40   & 20   & 0    & 1    & 0    & 3    & 0    & 3    & 4    & 5    & 363  & 1152\\\\\n",
       "\t 0    & 15   &  0   & 0    & 1    & 0    & 1    & 0    & 3    & 4    & 5    &  46  & 1152\\\\\n",
       "\t 0    & 21   &  4   & 0    & 0    & 1    & 3    & 1    & 3    & 4    & 5    &  56  & 1152\\\\\n",
       "\t 1    & 53   &  6   & 0    & 1    & 0    & 3    & 0    & 3    & 4    & 5    & 502  & 1152\\\\\n",
       "\t 1    & 40   & 12   & 0    & 1    & 0    & 2    & 1    & 3    & 4    & 5    & 166  & 1152\\\\\n",
       "\\end{tabular}\n"
      ],
      "text/markdown": [
       "\n",
       "| Gender | Age | Occupation | City_Category_A | City_Category_B | City_Category_C | Stay_In_Current_City_Years | Marital_Status | Product_Category_1 | Product_Category_2 | Product_Category_3 | User_Count | Product_Count |\n",
       "|---|---|---|---|---|---|---|---|---|---|---|---|---|\n",
       "| 0    | 48   | 14   | 0    | 0    | 1    | 4    | 1    | 3    | 4    | 5    | 120  | 1152 |\n",
       "| 1    | 40   | 20   | 0    | 1    | 0    | 3    | 0    | 3    | 4    | 5    | 363  | 1152 |\n",
       "| 0    | 15   |  0   | 0    | 1    | 0    | 1    | 0    | 3    | 4    | 5    |  46  | 1152 |\n",
       "| 0    | 21   |  4   | 0    | 0    | 1    | 3    | 1    | 3    | 4    | 5    |  56  | 1152 |\n",
       "| 1    | 53   |  6   | 0    | 1    | 0    | 3    | 0    | 3    | 4    | 5    | 502  | 1152 |\n",
       "| 1    | 40   | 12   | 0    | 1    | 0    | 2    | 1    | 3    | 4    | 5    | 166  | 1152 |\n",
       "\n"
      ],
      "text/plain": [
       "  Gender Age Occupation City_Category_A City_Category_B City_Category_C\n",
       "1 0      48  14         0               0               1              \n",
       "2 1      40  20         0               1               0              \n",
       "3 0      15   0         0               1               0              \n",
       "4 0      21   4         0               0               1              \n",
       "5 1      53   6         0               1               0              \n",
       "6 1      40  12         0               1               0              \n",
       "  Stay_In_Current_City_Years Marital_Status Product_Category_1\n",
       "1 4                          1              3                 \n",
       "2 3                          0              3                 \n",
       "3 1                          0              3                 \n",
       "4 3                          1              3                 \n",
       "5 3                          0              3                 \n",
       "6 2                          1              3                 \n",
       "  Product_Category_2 Product_Category_3 User_Count Product_Count\n",
       "1 4                  5                  120        1152         \n",
       "2 4                  5                  363        1152         \n",
       "3 4                  5                   46        1152         \n",
       "4 4                  5                   56        1152         \n",
       "5 4                  5                  502        1152         \n",
       "6 4                  5                  166        1152         "
      ]
     },
     "metadata": {},
     "output_type": "display_data"
    }
   ],
   "source": [
    "head(train)\n",
    "head(test)"
   ]
  },
  {
   "cell_type": "code",
   "execution_count": 46,
   "metadata": {},
   "outputs": [],
   "source": [
    "library(xgboost)\n",
    "X_features <- c( \"Gender\" ,                   \n",
    "                 \"Age\" , \"Occupation\" ,  \"City_Category_A\" ,\n",
    "                 \"City_Category_B\" , \"City_Category_C\" ,\n",
    "                 \"Stay_In_Current_City_Years\" , \"Product_Category_1\" ,       \n",
    "                 \"Product_Category_2\" , \"Product_Category_3\" ,\n",
    "                 \"User_Count\" , \"Product_Count\")\n",
    "X_target <- train$Purchase\n",
    "xgtrain <- xgb.DMatrix(data = as.matrix(train[,X_features]), label = X_target, missing = NA)\n",
    "xgtest <- xgb.DMatrix(data =as.matrix(test[,X_features]), missing=NA)"
   ]
  },
  {
   "cell_type": "code",
   "execution_count": 45,
   "metadata": {},
   "outputs": [],
   "source": [
    "#Setting Parameters\n",
    "params <- list()\n",
    "params$objective <- \"reg:linear\"\n",
    "params$eta <- 0.1\n",
    "params$min_child_weight <- 10\n",
    "params$subsample <- 0.7\n",
    "params$colsample_bytree <- 0.7\n",
    "params$scale_pos_weight <-.8\n",
    "params$max_depth <- 8\n",
    "params$early_stopping_rounds <- 10\n",
    "params$seed = 777"
   ]
  },
  {
   "cell_type": "code",
   "execution_count": 47,
   "metadata": {},
   "outputs": [
    {
     "data": {
      "text/html": [
       "<ol class=list-inline>\n",
       "\t<li>11183.08203125</li>\n",
       "\t<li>10770.736328125</li>\n",
       "\t<li>10275.025390625</li>\n",
       "\t<li>11105.87890625</li>\n",
       "\t<li>12395.349609375</li>\n",
       "\t<li>11076.775390625</li>\n",
       "\t<li>10948.3173828125</li>\n",
       "\t<li>10981.154296875</li>\n",
       "\t<li>11176.8095703125</li>\n",
       "\t<li>10990.337890625</li>\n",
       "\t<li>11088.7060546875</li>\n",
       "\t<li>10537.7626953125</li>\n",
       "\t<li>10784.4248046875</li>\n",
       "\t<li>10709.9345703125</li>\n",
       "\t<li>11309.294921875</li>\n",
       "</ol>\n"
      ],
      "text/latex": [
       "\\begin{enumerate*}\n",
       "\\item 11183.08203125\n",
       "\\item 10770.736328125\n",
       "\\item 10275.025390625\n",
       "\\item 11105.87890625\n",
       "\\item 12395.349609375\n",
       "\\item 11076.775390625\n",
       "\\item 10948.3173828125\n",
       "\\item 10981.154296875\n",
       "\\item 11176.8095703125\n",
       "\\item 10990.337890625\n",
       "\\item 11088.7060546875\n",
       "\\item 10537.7626953125\n",
       "\\item 10784.4248046875\n",
       "\\item 10709.9345703125\n",
       "\\item 11309.294921875\n",
       "\\end{enumerate*}\n"
      ],
      "text/markdown": [
       "1. 11183.08203125\n",
       "2. 10770.736328125\n",
       "3. 10275.025390625\n",
       "4. 11105.87890625\n",
       "5. 12395.349609375\n",
       "6. 11076.775390625\n",
       "7. 10948.3173828125\n",
       "8. 10981.154296875\n",
       "9. 11176.8095703125\n",
       "10. 10990.337890625\n",
       "11. 11088.7060546875\n",
       "12. 10537.7626953125\n",
       "13. 10784.4248046875\n",
       "14. 10709.9345703125\n",
       "15. 11309.294921875\n",
       "\n",
       "\n"
      ],
      "text/plain": [
       " [1] 11183.08 10770.74 10275.03 11105.88 12395.35 11076.78 10948.32 10981.15\n",
       " [9] 11176.81 10990.34 11088.71 10537.76 10784.42 10709.93 11309.29"
      ]
     },
     "metadata": {},
     "output_type": "display_data"
    }
   ],
   "source": [
    "#Model building \n",
    "model_xgb <- xgb.train(params <- params, xgtrain, nrounds <- 100)\n",
    "\n",
    "#Predicting \n",
    "pred_boost <- predict(model_xgb, xgtest)\n",
    "head(pred_boost,n=15)"
   ]
  },
  {
   "cell_type": "code",
   "execution_count": 48,
   "metadata": {},
   "outputs": [],
   "source": [
    "submit <- data.frame(User_ID = test_bk$User_ID, Product_ID = test_bk$Product_ID, Purchase = pred_boost)"
   ]
  },
  {
   "cell_type": "code",
   "execution_count": 49,
   "metadata": {
    "scrolled": false
   },
   "outputs": [
    {
     "data": {
      "text/html": [
       "<table>\n",
       "<thead><tr><th scope=col>User_ID</th><th scope=col>Product_ID</th><th scope=col>Purchase</th></tr></thead>\n",
       "<tbody>\n",
       "\t<tr><td>1000004  </td><td>P00128942</td><td>11183.08 </td></tr>\n",
       "\t<tr><td>1000009  </td><td>P00113442</td><td>10770.74 </td></tr>\n",
       "\t<tr><td>1000010  </td><td>P00288442</td><td>10275.03 </td></tr>\n",
       "\t<tr><td>1000010  </td><td>P00145342</td><td>11105.88 </td></tr>\n",
       "\t<tr><td>1000011  </td><td>P00053842</td><td>12395.35 </td></tr>\n",
       "\t<tr><td>1000013  </td><td>P00350442</td><td>11076.78 </td></tr>\n",
       "\t<tr><td>1000013  </td><td>P00155442</td><td>10948.32 </td></tr>\n",
       "\t<tr><td>1000013  </td><td>P0094542 </td><td>10981.15 </td></tr>\n",
       "\t<tr><td>1000015  </td><td>P00161842</td><td>11176.81 </td></tr>\n",
       "\t<tr><td>1000022  </td><td>P00067942</td><td>10990.34 </td></tr>\n",
       "\t<tr><td>1000026  </td><td>P00046742</td><td>11088.71 </td></tr>\n",
       "\t<tr><td>1000026  </td><td>P00040042</td><td>10537.76 </td></tr>\n",
       "\t<tr><td>1000026  </td><td>P00196542</td><td>10784.42 </td></tr>\n",
       "\t<tr><td>1000026  </td><td>P00004542</td><td>10709.93 </td></tr>\n",
       "\t<tr><td>1000028  </td><td>P00159542</td><td>11309.29 </td></tr>\n",
       "\t<tr><td>1000029  </td><td>P00111542</td><td>11080.16 </td></tr>\n",
       "\t<tr><td>1000033  </td><td>P00121042</td><td>10899.61 </td></tr>\n",
       "\t<tr><td>1000033  </td><td>P00344442</td><td>10967.97 </td></tr>\n",
       "\t<tr><td>1000034  </td><td>P00265242</td><td>11136.94 </td></tr>\n",
       "\t<tr><td>1000035  </td><td>P0096642 </td><td>11497.68 </td></tr>\n",
       "</tbody>\n",
       "</table>\n"
      ],
      "text/latex": [
       "\\begin{tabular}{r|lll}\n",
       " User\\_ID & Product\\_ID & Purchase\\\\\n",
       "\\hline\n",
       "\t 1000004   & P00128942 & 11183.08 \\\\\n",
       "\t 1000009   & P00113442 & 10770.74 \\\\\n",
       "\t 1000010   & P00288442 & 10275.03 \\\\\n",
       "\t 1000010   & P00145342 & 11105.88 \\\\\n",
       "\t 1000011   & P00053842 & 12395.35 \\\\\n",
       "\t 1000013   & P00350442 & 11076.78 \\\\\n",
       "\t 1000013   & P00155442 & 10948.32 \\\\\n",
       "\t 1000013   & P0094542  & 10981.15 \\\\\n",
       "\t 1000015   & P00161842 & 11176.81 \\\\\n",
       "\t 1000022   & P00067942 & 10990.34 \\\\\n",
       "\t 1000026   & P00046742 & 11088.71 \\\\\n",
       "\t 1000026   & P00040042 & 10537.76 \\\\\n",
       "\t 1000026   & P00196542 & 10784.42 \\\\\n",
       "\t 1000026   & P00004542 & 10709.93 \\\\\n",
       "\t 1000028   & P00159542 & 11309.29 \\\\\n",
       "\t 1000029   & P00111542 & 11080.16 \\\\\n",
       "\t 1000033   & P00121042 & 10899.61 \\\\\n",
       "\t 1000033   & P00344442 & 10967.97 \\\\\n",
       "\t 1000034   & P00265242 & 11136.94 \\\\\n",
       "\t 1000035   & P0096642  & 11497.68 \\\\\n",
       "\\end{tabular}\n"
      ],
      "text/markdown": [
       "\n",
       "| User_ID | Product_ID | Purchase |\n",
       "|---|---|---|\n",
       "| 1000004   | P00128942 | 11183.08  |\n",
       "| 1000009   | P00113442 | 10770.74  |\n",
       "| 1000010   | P00288442 | 10275.03  |\n",
       "| 1000010   | P00145342 | 11105.88  |\n",
       "| 1000011   | P00053842 | 12395.35  |\n",
       "| 1000013   | P00350442 | 11076.78  |\n",
       "| 1000013   | P00155442 | 10948.32  |\n",
       "| 1000013   | P0094542  | 10981.15  |\n",
       "| 1000015   | P00161842 | 11176.81  |\n",
       "| 1000022   | P00067942 | 10990.34  |\n",
       "| 1000026   | P00046742 | 11088.71  |\n",
       "| 1000026   | P00040042 | 10537.76  |\n",
       "| 1000026   | P00196542 | 10784.42  |\n",
       "| 1000026   | P00004542 | 10709.93  |\n",
       "| 1000028   | P00159542 | 11309.29  |\n",
       "| 1000029   | P00111542 | 11080.16  |\n",
       "| 1000033   | P00121042 | 10899.61  |\n",
       "| 1000033   | P00344442 | 10967.97  |\n",
       "| 1000034   | P00265242 | 11136.94  |\n",
       "| 1000035   | P0096642  | 11497.68  |\n",
       "\n"
      ],
      "text/plain": [
       "   User_ID Product_ID Purchase\n",
       "1  1000004 P00128942  11183.08\n",
       "2  1000009 P00113442  10770.74\n",
       "3  1000010 P00288442  10275.03\n",
       "4  1000010 P00145342  11105.88\n",
       "5  1000011 P00053842  12395.35\n",
       "6  1000013 P00350442  11076.78\n",
       "7  1000013 P00155442  10948.32\n",
       "8  1000013 P0094542   10981.15\n",
       "9  1000015 P00161842  11176.81\n",
       "10 1000022 P00067942  10990.34\n",
       "11 1000026 P00046742  11088.71\n",
       "12 1000026 P00040042  10537.76\n",
       "13 1000026 P00196542  10784.42\n",
       "14 1000026 P00004542  10709.93\n",
       "15 1000028 P00159542  11309.29\n",
       "16 1000029 P00111542  11080.16\n",
       "17 1000033 P00121042  10899.61\n",
       "18 1000033 P00344442  10967.97\n",
       "19 1000034 P00265242  11136.94\n",
       "20 1000035 P0096642   11497.68"
      ]
     },
     "metadata": {},
     "output_type": "display_data"
    }
   ],
   "source": [
    "head(submit,n=20)"
   ]
  },
  {
   "cell_type": "code",
   "execution_count": 50,
   "metadata": {},
   "outputs": [],
   "source": [
    "write.csv(submit, file= 'submit.csv', row.names =F)"
   ]
  }
 ],
 "metadata": {
  "kernelspec": {
   "display_name": "R",
   "language": "R",
   "name": "ir"
  },
  "language_info": {
   "codemirror_mode": "r",
   "file_extension": ".r",
   "mimetype": "text/x-r-source",
   "name": "R",
   "pygments_lexer": "r",
   "version": "3.6.0"
  }
 },
 "nbformat": 4,
 "nbformat_minor": 2
}
